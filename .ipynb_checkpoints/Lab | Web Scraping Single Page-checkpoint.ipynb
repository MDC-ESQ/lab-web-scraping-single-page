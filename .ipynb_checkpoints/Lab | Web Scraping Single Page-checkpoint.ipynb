{
 "cells": [
  {
   "cell_type": "markdown",
   "id": "7e58b265",
   "metadata": {},
   "source": [
    "# Lab | Web Scraping Single Page\n",
    "\n",
    "### Instructions - Scraping popular songs\n",
    "\n",
    "Your product will take a song as an input from the user and will output another song (the recommendation). In most cases, the recommended song will have to be similar to the inputted song, but the CTO thinks that if the song is on the top charts at the moment, the user will enjoy more a recommendation of a song that's also popular at the moment.\n",
    "\n",
    "You have find data on the internet about currently popular songs. \n",
    "\n",
    "It's a good place to start! Scrape the current top 100 songs and their respective artists, and put the information into a pandas dataframe."
   ]
  },
  {
   "cell_type": "code",
   "execution_count": 23,
   "id": "f1f7fc5f",
   "metadata": {},
   "outputs": [],
   "source": [
    "from bs4 import BeautifulSoup\n",
    "import requests\n",
    "import pandas as pd\n",
    "from random import randint\n",
    "from time import sleep\n",
    "import random"
   ]
  },
  {
   "cell_type": "code",
   "execution_count": 24,
   "id": "0e15e56f",
   "metadata": {},
   "outputs": [],
   "source": [
    "url = 'https://www.popvortex.com/music/charts/top-100-songs.php'"
   ]
  },
  {
   "cell_type": "code",
   "execution_count": 25,
   "id": "dc821fd1",
   "metadata": {},
   "outputs": [
    {
     "data": {
      "text/plain": [
       "200"
      ]
     },
     "execution_count": 25,
     "metadata": {},
     "output_type": "execute_result"
    }
   ],
   "source": [
    "response = requests.get(url)\n",
    "response.status_code # 200 status code means OK!"
   ]
  },
  {
   "cell_type": "code",
   "execution_count": 26,
   "id": "2fed8498",
   "metadata": {},
   "outputs": [],
   "source": [
    "soup = BeautifulSoup(response.content, \"html.parser\")"
   ]
  },
  {
   "cell_type": "code",
   "execution_count": 27,
   "id": "f4cc0099",
   "metadata": {},
   "outputs": [
    {
     "data": {
      "text/plain": [
       "[<p class=\"title-artist\"><cite class=\"title\">Unholy</cite><em class=\"artist\">Sam Smith &amp; Kim Petras</em></p>]"
      ]
     },
     "execution_count": 27,
     "metadata": {},
     "output_type": "execute_result"
    }
   ],
   "source": [
    "soup.select('#chart-position-1 > div.chart-content.col-xs-12.col-sm-8 > p')"
   ]
  },
  {
   "cell_type": "code",
   "execution_count": 28,
   "id": "09ff9204",
   "metadata": {},
   "outputs": [
    {
     "data": {
      "text/plain": [
       "['Unholy',\n",
       " 'Eagle (feat. KB)',\n",
       " 'Everywhere',\n",
       " \"I'm Good (Blue)\",\n",
       " 'wait in the truck',\n",
       " 'Thank God',\n",
       " 'Son Of A Sinner',\n",
       " 'A Thousand Years',\n",
       " 'You Proof',\n",
       " \"I Ain't Worried\",\n",
       " 'Unstoppable',\n",
       " 'CUFF IT',\n",
       " 'Left and Right',\n",
       " 'TRUCK BED',\n",
       " 'She Had Me At Heads Carolina',\n",
       " 'here lies country music',\n",
       " 'Wasted On You',\n",
       " 'the mockingbird & THE CROW',\n",
       " 'The Kind of Love We Make',\n",
       " 'As It Was',\n",
       " 'Fall In Love',\n",
       " 'Shallow',\n",
       " 'Under the Influence',\n",
       " 'Lose Yourself',\n",
       " 'Life Is a Highway',\n",
       " 'Sunroof',\n",
       " 'Celestial',\n",
       " 'Super Freaky Girl',\n",
       " 'Shivers',\n",
       " 'Hold Me Closer',\n",
       " 'High Heels',\n",
       " 'Victoria’s Secret',\n",
       " 'Love Me Like You Do',\n",
       " 'About Damn Time',\n",
       " 'I Like You (A Happier Song) [feat. Doja Cat]',\n",
       " '2 Be Loved (Am I Ready)',\n",
       " 'Numb',\n",
       " 'Running Up That Hill (A Deal with God)',\n",
       " 'Next Thing You Know',\n",
       " 'Earned It',\n",
       " 'Rock and a Hard Place',\n",
       " \"You'll Be In My Heart\",\n",
       " 'You, Me, And Whiskey',\n",
       " 'Cold Heart (PNAU Remix)',\n",
       " 'What My World Spins Around',\n",
       " 'Monster Mash',\n",
       " 'Vegas (From the Original Motion Picture Soundtrack ELVIS)',\n",
       " 'Soul',\n",
       " 'Tennessee Orange',\n",
       " 'This Is Halloween',\n",
       " \"Something in the Orange (Z&E's Version)\",\n",
       " 'Bones',\n",
       " 'Way of the Triune God (Hallelujah Version)',\n",
       " 'It Will Rain',\n",
       " \"Gangsta's Paradise (feat. L.V.)\",\n",
       " \"STAR WALKIN' (League of Legends Worlds Anthem)\",\n",
       " '500 Miles',\n",
       " 'Always Remember Us This Way',\n",
       " 'Don’t Come Lookin’',\n",
       " 'Something in the Orange',\n",
       " 'Love Me Like I Am',\n",
       " 'CUFF IT',\n",
       " 'How Do I Say Goodbye',\n",
       " 'Tití Me Preguntó',\n",
       " 'Bad Habit',\n",
       " \"World's Smallest Violin\",\n",
       " 'Forever',\n",
       " 'Late Night Talking',\n",
       " 'Tennessee Whiskey',\n",
       " 'CASE 143',\n",
       " 'Forget Me',\n",
       " 'Say My Name',\n",
       " 'Never Leave',\n",
       " 'Take Me Home, Country Roads',\n",
       " 'Joy of My Life',\n",
       " 'Country On',\n",
       " '5 Foot 9',\n",
       " 'Glimpse of Us',\n",
       " 'Narco',\n",
       " 'Perfectly Loved (feat. TobyMac)',\n",
       " 'One Way or Another (Hocus Pocus 2 Version)',\n",
       " 'Half Of Me (feat. Riley Green)',\n",
       " 'Somewhere Over the Rainbow',\n",
       " \"'Til You Can't\",\n",
       " 'She Likes It (feat. Jake Scott)',\n",
       " 'Betty (Get Money)',\n",
       " 'Beer With My Friends',\n",
       " 'Hold My Hand',\n",
       " \"I'm Good (Blue)\",\n",
       " 'Tomorrow 2',\n",
       " 'Fancy Like',\n",
       " \"Sweet Child O' Mine\",\n",
       " 'The Witches Are Back',\n",
       " 'God Is In This Story',\n",
       " 'Over For You (Live in Melbourne)',\n",
       " \"How Far I'll Go\",\n",
       " 'Ghostbusters',\n",
       " \"We Don't Talk About Bruno\",\n",
       " 'No Se Va (En Vivo)',\n",
       " 'Bedroom Singer']"
      ]
     },
     "execution_count": 28,
     "metadata": {},
     "output_type": "execute_result"
    }
   ],
   "source": [
    "top100_songs = []\n",
    "for i in soup.select(\".title\"):\n",
    "    top100_songs.append(i.get_text())\n",
    "top100_songs"
   ]
  },
  {
   "cell_type": "code",
   "execution_count": 29,
   "id": "02022ef2",
   "metadata": {},
   "outputs": [],
   "source": [
    "top100_songs_df = pd.DataFrame({\"title\":top100_songs})"
   ]
  },
  {
   "cell_type": "code",
   "execution_count": 30,
   "id": "e5ee5221",
   "metadata": {},
   "outputs": [
    {
     "data": {
      "text/html": [
       "<div>\n",
       "<style scoped>\n",
       "    .dataframe tbody tr th:only-of-type {\n",
       "        vertical-align: middle;\n",
       "    }\n",
       "\n",
       "    .dataframe tbody tr th {\n",
       "        vertical-align: top;\n",
       "    }\n",
       "\n",
       "    .dataframe thead th {\n",
       "        text-align: right;\n",
       "    }\n",
       "</style>\n",
       "<table border=\"1\" class=\"dataframe\">\n",
       "  <thead>\n",
       "    <tr style=\"text-align: right;\">\n",
       "      <th></th>\n",
       "      <th>title</th>\n",
       "    </tr>\n",
       "  </thead>\n",
       "  <tbody>\n",
       "    <tr>\n",
       "      <th>0</th>\n",
       "      <td>Unholy</td>\n",
       "    </tr>\n",
       "    <tr>\n",
       "      <th>1</th>\n",
       "      <td>Eagle (feat. KB)</td>\n",
       "    </tr>\n",
       "    <tr>\n",
       "      <th>2</th>\n",
       "      <td>Everywhere</td>\n",
       "    </tr>\n",
       "    <tr>\n",
       "      <th>3</th>\n",
       "      <td>I'm Good (Blue)</td>\n",
       "    </tr>\n",
       "    <tr>\n",
       "      <th>4</th>\n",
       "      <td>wait in the truck</td>\n",
       "    </tr>\n",
       "  </tbody>\n",
       "</table>\n",
       "</div>"
      ],
      "text/plain": [
       "               title\n",
       "0             Unholy\n",
       "1   Eagle (feat. KB)\n",
       "2         Everywhere\n",
       "3    I'm Good (Blue)\n",
       "4  wait in the truck"
      ]
     },
     "execution_count": 30,
     "metadata": {},
     "output_type": "execute_result"
    }
   ],
   "source": [
    "top100_songs_df.head()"
   ]
  },
  {
   "cell_type": "code",
   "execution_count": null,
   "id": "30eee4d7",
   "metadata": {},
   "outputs": [],
   "source": [
    "\n",
    "music = input(\"\\nEnter your music? \") #ask user for a song he/she likes\n",
    "\n",
    "random_music = random.choice(top100_songs) #get a random music form the top100\n",
    "\n",
    "if music in top100_songs:\n",
    "    print('Great choice. Here is another music from the Top 100: ',random_song)\n",
    "else:\n",
    "    print('Oh, bad luck! Try again tomorrow or listen to one of the musics from the Top 100: ', random_song)\n",
    "    \n"
   ]
  },
  {
   "cell_type": "code",
   "execution_count": null,
   "id": "379df4f3",
   "metadata": {},
   "outputs": [],
   "source": []
  },
  {
   "cell_type": "markdown",
   "id": "71a3e483",
   "metadata": {},
   "source": [
    "# Lab | Web Scraping Multiple Pages\n",
    "\n",
    "#### Expand the project\n",
    "\n",
    "If you're done, you can try to expand the project on your own. Here are a few suggestions:\n",
    "\n",
    " - Find other lists of hot songs on the internet and scrape them too: having a bigger pool of songs will be awesome!"
   ]
  },
  {
   "cell_type": "code",
   "execution_count": null,
   "id": "fcb51f5e",
   "metadata": {},
   "outputs": [],
   "source": [
    "url = \"https://playback.fm/charts/top-100-songs/2000\""
   ]
  },
  {
   "cell_type": "code",
   "execution_count": null,
   "id": "5442ac41",
   "metadata": {},
   "outputs": [],
   "source": [
    "response = requests.get(url)\n",
    "response.status_code"
   ]
  },
  {
   "cell_type": "code",
   "execution_count": null,
   "id": "30ac8fff",
   "metadata": {},
   "outputs": [],
   "source": [
    "soup = BeautifulSoup(response.content, \"html.parser\")"
   ]
  },
  {
   "cell_type": "code",
   "execution_count": null,
   "id": "bc05e27d",
   "metadata": {},
   "outputs": [],
   "source": [
    "new_song_list = []\n",
    "\n",
    "iterations = range(2000, 2022)\n",
    "[i for i in iterations]\n",
    "\n",
    "for i in iterations:\n",
    "    year= str(i)\n",
    "    url = \"https://playback.fm/charts/top-100-songs/\" + year\n",
    "    \n",
    "    response = requests.get(url)\n",
    "    print(\"Status code: \" + str(response.status_code))\n",
    "    \n",
    "    wait_time = randint(1,4)\n",
    "    sleep(wait_time)\n",
    "    \n",
    "    soup = BeautifulSoup(response.content, \"html.parser\")\n",
    "    \n",
    "    for i in soup.select('.song a'):\n",
    "        new_song_list.append(i.get_text().replace('\\n',''))\n",
    "\n",
    "    \n",
    "new_song_list\n",
    "    \n",
    "\n",
    "    "
   ]
  },
  {
   "cell_type": "code",
   "execution_count": null,
   "id": "a7c2a4a9",
   "metadata": {},
   "outputs": [],
   "source": [
    "top100_new_list_df = pd.DataFrame({\"title\":new_song_list})\n",
    "top100_new_list_df.head()"
   ]
  },
  {
   "cell_type": "code",
   "execution_count": null,
   "id": "76b88ec6",
   "metadata": {},
   "outputs": [],
   "source": [
    "full_list_df = pd.concat([top100_songs_df,top100_new_list_df], axis=0)"
   ]
  },
  {
   "cell_type": "code",
   "execution_count": null,
   "id": "ea131290",
   "metadata": {},
   "outputs": [],
   "source": [
    "full_list_df.shape"
   ]
  },
  {
   "cell_type": "code",
   "execution_count": null,
   "id": "118f84d7",
   "metadata": {},
   "outputs": [],
   "source": [
    "full_list_df = full_list_df.drop_duplicates()"
   ]
  },
  {
   "cell_type": "code",
   "execution_count": null,
   "id": "b8869ba3",
   "metadata": {},
   "outputs": [],
   "source": [
    "full_list_df.shape"
   ]
  },
  {
   "cell_type": "markdown",
   "id": "77d4426a",
   "metadata": {},
   "source": [
    " - Apply the same logic to other \"groups\" of songs: the best songs from a decade or from a country / culture / language / genre."
   ]
  },
  {
   "cell_type": "code",
   "execution_count": null,
   "id": "80e84169",
   "metadata": {},
   "outputs": [],
   "source": []
  }
 ],
 "metadata": {
  "kernelspec": {
   "display_name": "Python 3 (ipykernel)",
   "language": "python",
   "name": "python3"
  },
  "language_info": {
   "codemirror_mode": {
    "name": "ipython",
    "version": 3
   },
   "file_extension": ".py",
   "mimetype": "text/x-python",
   "name": "python",
   "nbconvert_exporter": "python",
   "pygments_lexer": "ipython3",
   "version": "3.9.12"
  }
 },
 "nbformat": 4,
 "nbformat_minor": 5
}
