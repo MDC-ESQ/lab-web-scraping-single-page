{
 "cells": [
  {
   "cell_type": "markdown",
   "id": "7e58b265",
   "metadata": {},
   "source": [
    "# Lab | Web Scraping Single Page\n",
    "\n",
    "### Instructions - Scraping popular songs\n",
    "\n",
    "Your product will take a song as an input from the user and will output another song (the recommendation). In most cases, the recommended song will have to be similar to the inputted song, but the CTO thinks that if the song is on the top charts at the moment, the user will enjoy more a recommendation of a song that's also popular at the moment.\n",
    "\n",
    "You have find data on the internet about currently popular songs. \n",
    "\n",
    "It's a good place to start! Scrape the current top 100 songs and their respective artists, and put the information into a pandas dataframe."
   ]
  },
  {
   "cell_type": "code",
   "execution_count": 261,
   "id": "f1f7fc5f",
   "metadata": {},
   "outputs": [],
   "source": [
    "from bs4 import BeautifulSoup\n",
    "import requests\n",
    "import pandas as pd\n",
    "from random import randint\n",
    "from time import sleep\n",
    "import random"
   ]
  },
  {
   "cell_type": "code",
   "execution_count": 262,
   "id": "0e15e56f",
   "metadata": {},
   "outputs": [],
   "source": [
    "url = 'https://www.popvortex.com/music/charts/top-100-songs.php'"
   ]
  },
  {
   "cell_type": "code",
   "execution_count": 263,
   "id": "dc821fd1",
   "metadata": {},
   "outputs": [
    {
     "data": {
      "text/plain": [
       "200"
      ]
     },
     "execution_count": 263,
     "metadata": {},
     "output_type": "execute_result"
    }
   ],
   "source": [
    "response = requests.get(url)\n",
    "response.status_code # 200 status code means OK!"
   ]
  },
  {
   "cell_type": "code",
   "execution_count": 264,
   "id": "2fed8498",
   "metadata": {},
   "outputs": [],
   "source": [
    "soup = BeautifulSoup(response.content, \"html.parser\")"
   ]
  },
  {
   "cell_type": "code",
   "execution_count": 265,
   "id": "f4cc0099",
   "metadata": {},
   "outputs": [
    {
     "data": {
      "text/plain": [
       "[<p class=\"title-artist\"><cite class=\"title\">Unholy</cite><em class=\"artist\">Sam Smith &amp; Kim Petras</em></p>]"
      ]
     },
     "execution_count": 265,
     "metadata": {},
     "output_type": "execute_result"
    }
   ],
   "source": [
    "soup.select('#chart-position-1 > div.chart-content.col-xs-12.col-sm-8 > p')"
   ]
  },
  {
   "cell_type": "code",
   "execution_count": 266,
   "id": "09ff9204",
   "metadata": {},
   "outputs": [],
   "source": [
    "top100_songs = []\n",
    "top100_artist = []\n",
    "year = []\n",
    "\n",
    "num_iter = len(soup.select(\".title-artist\"))\n",
    "song = soup.select(\".title\")\n",
    "artist = soup.select(\".artist\")\n",
    "\n",
    "for i in range(num_iter):\n",
    "    top100_songs.append(song[i].get_text())\n",
    "    top100_artist.append(artist[i].get_text())\n",
    "    year.append(2022)\n",
    "\n",
    "#print(top100_songs)\n",
    "#print(top100_artist)"
   ]
  },
  {
   "cell_type": "code",
   "execution_count": 267,
   "id": "02022ef2",
   "metadata": {},
   "outputs": [],
   "source": [
    "top100_songs_df = pd.DataFrame({'title':top100_songs,\n",
    "                                'artist':top100_songs,\n",
    "                                'year':year})"
   ]
  },
  {
   "cell_type": "code",
   "execution_count": 268,
   "id": "e5ee5221",
   "metadata": {},
   "outputs": [
    {
     "data": {
      "text/html": [
       "<div>\n",
       "<style scoped>\n",
       "    .dataframe tbody tr th:only-of-type {\n",
       "        vertical-align: middle;\n",
       "    }\n",
       "\n",
       "    .dataframe tbody tr th {\n",
       "        vertical-align: top;\n",
       "    }\n",
       "\n",
       "    .dataframe thead th {\n",
       "        text-align: right;\n",
       "    }\n",
       "</style>\n",
       "<table border=\"1\" class=\"dataframe\">\n",
       "  <thead>\n",
       "    <tr style=\"text-align: right;\">\n",
       "      <th></th>\n",
       "      <th>title</th>\n",
       "      <th>artist</th>\n",
       "      <th>year</th>\n",
       "    </tr>\n",
       "  </thead>\n",
       "  <tbody>\n",
       "    <tr>\n",
       "      <th>0</th>\n",
       "      <td>Unholy</td>\n",
       "      <td>Unholy</td>\n",
       "      <td>2022</td>\n",
       "    </tr>\n",
       "    <tr>\n",
       "      <th>1</th>\n",
       "      <td>I'm Good (Blue)</td>\n",
       "      <td>I'm Good (Blue)</td>\n",
       "      <td>2022</td>\n",
       "    </tr>\n",
       "    <tr>\n",
       "      <th>2</th>\n",
       "      <td>wait in the truck</td>\n",
       "      <td>wait in the truck</td>\n",
       "      <td>2022</td>\n",
       "    </tr>\n",
       "    <tr>\n",
       "      <th>3</th>\n",
       "      <td>Thank God</td>\n",
       "      <td>Thank God</td>\n",
       "      <td>2022</td>\n",
       "    </tr>\n",
       "    <tr>\n",
       "      <th>4</th>\n",
       "      <td>Everywhere</td>\n",
       "      <td>Everywhere</td>\n",
       "      <td>2022</td>\n",
       "    </tr>\n",
       "  </tbody>\n",
       "</table>\n",
       "</div>"
      ],
      "text/plain": [
       "               title             artist  year\n",
       "0             Unholy             Unholy  2022\n",
       "1    I'm Good (Blue)    I'm Good (Blue)  2022\n",
       "2  wait in the truck  wait in the truck  2022\n",
       "3          Thank God          Thank God  2022\n",
       "4         Everywhere         Everywhere  2022"
      ]
     },
     "execution_count": 268,
     "metadata": {},
     "output_type": "execute_result"
    }
   ],
   "source": [
    "top100_songs_df.head()"
   ]
  },
  {
   "cell_type": "code",
   "execution_count": 269,
   "id": "30eee4d7",
   "metadata": {},
   "outputs": [
    {
     "name": "stdout",
     "output_type": "stream",
     "text": [
      "\n",
      "Enter your music? Thank God\n",
      "Great choice. Here is another music from the Top 100:  Build a Boat\n"
     ]
    }
   ],
   "source": [
    "#ask user for a song he/she likes\n",
    "music = input(\"\\nEnter your music? \") \n",
    "\n",
    "#get a random music form the top100\n",
    "random_music = random.choice(top100_songs) \n",
    "    \n",
    "if music in top100_songs_df['title'].values:\n",
    "    print('Great choice. Here is another music from the Top 100: ',random_music)\n",
    "else:\n",
    "    print('Oh, bad luck! Try again tomorrow or listen to one of the musics from the Top 100: ', random_music)\n"
   ]
  },
  {
   "cell_type": "markdown",
   "id": "71a3e483",
   "metadata": {},
   "source": [
    "# Lab | Web Scraping Multiple Pages\n",
    "\n",
    "#### Expand the project\n",
    "\n",
    "If you're done, you can try to expand the project on your own. Here are a few suggestions:\n",
    "\n",
    " - Find other lists of hot songs on the internet and scrape them too: having a bigger pool of songs will be awesome!"
   ]
  },
  {
   "cell_type": "code",
   "execution_count": 270,
   "id": "fcb51f5e",
   "metadata": {},
   "outputs": [],
   "source": [
    "url = \"https://playback.fm/charts/top-100-songs/2000\""
   ]
  },
  {
   "cell_type": "code",
   "execution_count": 271,
   "id": "5442ac41",
   "metadata": {},
   "outputs": [
    {
     "data": {
      "text/plain": [
       "200"
      ]
     },
     "execution_count": 271,
     "metadata": {},
     "output_type": "execute_result"
    }
   ],
   "source": [
    "response = requests.get(url)\n",
    "response.status_code"
   ]
  },
  {
   "cell_type": "code",
   "execution_count": 272,
   "id": "30ac8fff",
   "metadata": {},
   "outputs": [],
   "source": [
    "soup = BeautifulSoup(response.content, \"html.parser\")"
   ]
  },
  {
   "cell_type": "code",
   "execution_count": 273,
   "id": "9e5212e5",
   "metadata": {},
   "outputs": [
    {
     "name": "stdout",
     "output_type": "stream",
     "text": [
      "2000\n",
      "2001\n",
      "2002\n",
      "2003\n",
      "2004\n",
      "2005\n",
      "2006\n",
      "2007\n",
      "2008\n",
      "2009\n",
      "2010\n",
      "2011\n",
      "2012\n",
      "2013\n",
      "2014\n",
      "2015\n",
      "2016\n",
      "2017\n",
      "2018\n",
      "2019\n",
      "2020\n",
      "2021\n"
     ]
    }
   ],
   "source": [
    "iterations = range(2000, 2022)\n",
    "for i in iterations:\n",
    "    print(i)\n"
   ]
  },
  {
   "cell_type": "code",
   "execution_count": 274,
   "id": "bc05e27d",
   "metadata": {},
   "outputs": [],
   "source": [
    "pages = []\n",
    "\n",
    "iterations = range(2000, 2022)\n",
    "[i for i in iterations]\n",
    "\n",
    "for i in iterations:\n",
    "    year= str(i)\n",
    "    url = \"https://playback.fm/charts/top-100-songs/\" + year\n",
    "    \n",
    "    response = requests.get(url)\n",
    "\n",
    "    # monitor the process by printing the status code\n",
    "    #print(\"Status code: \" + str(response.status_code))\n",
    "\n",
    "    # store response into \"pages\" list\n",
    "    pages.append(response)\n",
    "\n",
    "    # respectful nap:\n",
    "    wait_time = randint(1,2)\n",
    "    sleep(wait_time)\n",
    "    "
   ]
  },
  {
   "cell_type": "code",
   "execution_count": 275,
   "id": "caf4709e",
   "metadata": {},
   "outputs": [],
   "source": [
    "new_song_list = []\n",
    "new_artist_list = []\n",
    "year = []\n",
    "\n",
    "\n",
    "for i in range(len(pages)):\n",
    "    # parse all pages\n",
    "    soup = BeautifulSoup(pages[i].content, \"html.parser\")\n",
    "    \n",
    "    songs_catalogue = soup.select('#myTable')\n",
    "    \n",
    "    song = soup.select(\".song a\")\n",
    "    artist = soup.select(\".artist\")\n",
    "    \n",
    "    \n",
    "  \n",
    "    \n",
    "    for j in range(len(song)):\n",
    "        new_song_list.append(song[j].get_text().replace('\\n','')) \n",
    "        new_artist_list.append(artist[j].get_text().replace('\\n',''))\n",
    "        year.append(i)\n",
    "            \n",
    "#print(new_song_list)\n",
    "#print(new_artist_list)\n",
    "#print(year)\n"
   ]
  },
  {
   "cell_type": "code",
   "execution_count": 276,
   "id": "a7c2a4a9",
   "metadata": {},
   "outputs": [
    {
     "data": {
      "text/html": [
       "<div>\n",
       "<style scoped>\n",
       "    .dataframe tbody tr th:only-of-type {\n",
       "        vertical-align: middle;\n",
       "    }\n",
       "\n",
       "    .dataframe tbody tr th {\n",
       "        vertical-align: top;\n",
       "    }\n",
       "\n",
       "    .dataframe thead th {\n",
       "        text-align: right;\n",
       "    }\n",
       "</style>\n",
       "<table border=\"1\" class=\"dataframe\">\n",
       "  <thead>\n",
       "    <tr style=\"text-align: right;\">\n",
       "      <th></th>\n",
       "      <th>title</th>\n",
       "      <th>artist</th>\n",
       "      <th>year</th>\n",
       "    </tr>\n",
       "  </thead>\n",
       "  <tbody>\n",
       "    <tr>\n",
       "      <th>0</th>\n",
       "      <td>Music</td>\n",
       "      <td>Madonna</td>\n",
       "      <td>0</td>\n",
       "    </tr>\n",
       "    <tr>\n",
       "      <th>1</th>\n",
       "      <td>Beautiful Day</td>\n",
       "      <td>U2</td>\n",
       "      <td>0</td>\n",
       "    </tr>\n",
       "    <tr>\n",
       "      <th>2</th>\n",
       "      <td>Bye, Bye, Bye</td>\n",
       "      <td>N Sync</td>\n",
       "      <td>0</td>\n",
       "    </tr>\n",
       "    <tr>\n",
       "      <th>3</th>\n",
       "      <td>Stan</td>\n",
       "      <td>Eminem</td>\n",
       "      <td>0</td>\n",
       "    </tr>\n",
       "    <tr>\n",
       "      <th>4</th>\n",
       "      <td>Oops!... I Did it Again</td>\n",
       "      <td>Britney Spears</td>\n",
       "      <td>0</td>\n",
       "    </tr>\n",
       "  </tbody>\n",
       "</table>\n",
       "</div>"
      ],
      "text/plain": [
       "                     title          artist  year\n",
       "0                    Music         Madonna     0\n",
       "1            Beautiful Day              U2     0\n",
       "2            Bye, Bye, Bye          N Sync     0\n",
       "3                     Stan          Eminem     0\n",
       "4  Oops!... I Did it Again  Britney Spears     0"
      ]
     },
     "execution_count": 276,
     "metadata": {},
     "output_type": "execute_result"
    }
   ],
   "source": [
    "# Turn new list into a dataframe\n",
    "\n",
    "top100_new_list_df = pd.DataFrame({'title':new_song_list,\n",
    "                                  'artist':new_artist_list,\n",
    "                                  'year':year})\n",
    "top100_new_list_df.head()"
   ]
  },
  {
   "cell_type": "code",
   "execution_count": 277,
   "id": "35d64bb5",
   "metadata": {},
   "outputs": [],
   "source": [
    "top100_new_list_df['year']=top100_new_list_df['year'].replace(to_replace = [0, 1, 2, 3, 4, 5, 6, 7, 8, 9, 10, 11, 12, 13, 14, 15, 16, 17, 18, 19, 20, 21, 22],\n",
    "                                                              value = [2000, 2001, 2002, 2003, 2004, 2005, 2006, 2007, 2008, 2009, 2010, 2011, 2012, 2013, 2014, 2015, 2016, 2017, 2018, 2019, 2020, 2021, 2022])"
   ]
  },
  {
   "cell_type": "code",
   "execution_count": 278,
   "id": "76b88ec6",
   "metadata": {},
   "outputs": [],
   "source": [
    "full_list_df = pd.concat([top100_songs_df,top100_new_list_df], axis=0)"
   ]
  },
  {
   "cell_type": "code",
   "execution_count": 279,
   "id": "ea131290",
   "metadata": {},
   "outputs": [
    {
     "data": {
      "text/plain": [
       "(2298, 3)"
      ]
     },
     "execution_count": 279,
     "metadata": {},
     "output_type": "execute_result"
    }
   ],
   "source": [
    "full_list_df.shape"
   ]
  },
  {
   "cell_type": "code",
   "execution_count": 280,
   "id": "118f84d7",
   "metadata": {},
   "outputs": [],
   "source": [
    "full_list_df = full_list_df.drop_duplicates()"
   ]
  },
  {
   "cell_type": "code",
   "execution_count": 281,
   "id": "b8869ba3",
   "metadata": {},
   "outputs": [
    {
     "data": {
      "text/plain": [
       "(2296, 3)"
      ]
     },
     "execution_count": 281,
     "metadata": {},
     "output_type": "execute_result"
    }
   ],
   "source": [
    "full_list_df.shape"
   ]
  },
  {
   "cell_type": "code",
   "execution_count": 283,
   "id": "1ea683b4",
   "metadata": {},
   "outputs": [
    {
     "data": {
      "text/html": [
       "<div>\n",
       "<style scoped>\n",
       "    .dataframe tbody tr th:only-of-type {\n",
       "        vertical-align: middle;\n",
       "    }\n",
       "\n",
       "    .dataframe tbody tr th {\n",
       "        vertical-align: top;\n",
       "    }\n",
       "\n",
       "    .dataframe thead th {\n",
       "        text-align: right;\n",
       "    }\n",
       "</style>\n",
       "<table border=\"1\" class=\"dataframe\">\n",
       "  <thead>\n",
       "    <tr style=\"text-align: right;\">\n",
       "      <th></th>\n",
       "      <th>title</th>\n",
       "      <th>artist</th>\n",
       "      <th>year</th>\n",
       "    </tr>\n",
       "  </thead>\n",
       "  <tbody>\n",
       "    <tr>\n",
       "      <th>0</th>\n",
       "      <td>Unholy</td>\n",
       "      <td>Unholy</td>\n",
       "      <td>2022</td>\n",
       "    </tr>\n",
       "    <tr>\n",
       "      <th>1</th>\n",
       "      <td>I'm Good (Blue)</td>\n",
       "      <td>I'm Good (Blue)</td>\n",
       "      <td>2022</td>\n",
       "    </tr>\n",
       "    <tr>\n",
       "      <th>2</th>\n",
       "      <td>wait in the truck</td>\n",
       "      <td>wait in the truck</td>\n",
       "      <td>2022</td>\n",
       "    </tr>\n",
       "    <tr>\n",
       "      <th>3</th>\n",
       "      <td>Thank God</td>\n",
       "      <td>Thank God</td>\n",
       "      <td>2022</td>\n",
       "    </tr>\n",
       "    <tr>\n",
       "      <th>4</th>\n",
       "      <td>Everywhere</td>\n",
       "      <td>Everywhere</td>\n",
       "      <td>2022</td>\n",
       "    </tr>\n",
       "    <tr>\n",
       "      <th>...</th>\n",
       "      <td>...</td>\n",
       "      <td>...</td>\n",
       "      <td>...</td>\n",
       "    </tr>\n",
       "    <tr>\n",
       "      <th>2193</th>\n",
       "      <td>Leave Before You Love Me</td>\n",
       "      <td>Marshmello &amp; Jonas Brothers</td>\n",
       "      <td>2021</td>\n",
       "    </tr>\n",
       "    <tr>\n",
       "      <th>2194</th>\n",
       "      <td>Beggin</td>\n",
       "      <td>Maneskin</td>\n",
       "      <td>2021</td>\n",
       "    </tr>\n",
       "    <tr>\n",
       "      <th>2195</th>\n",
       "      <td>Famous Friends</td>\n",
       "      <td>Chris Young + Kane Brown</td>\n",
       "      <td>2021</td>\n",
       "    </tr>\n",
       "    <tr>\n",
       "      <th>2196</th>\n",
       "      <td>Lil Bit</td>\n",
       "      <td>Nelly &amp; Florida Georgia Line</td>\n",
       "      <td>2021</td>\n",
       "    </tr>\n",
       "    <tr>\n",
       "      <th>2197</th>\n",
       "      <td>Thot Shit</td>\n",
       "      <td>Megan Thee Stallion</td>\n",
       "      <td>2021</td>\n",
       "    </tr>\n",
       "  </tbody>\n",
       "</table>\n",
       "<p>2296 rows × 3 columns</p>\n",
       "</div>"
      ],
      "text/plain": [
       "                         title                        artist  year\n",
       "0                       Unholy                        Unholy  2022\n",
       "1              I'm Good (Blue)               I'm Good (Blue)  2022\n",
       "2            wait in the truck             wait in the truck  2022\n",
       "3                    Thank God                     Thank God  2022\n",
       "4                   Everywhere                    Everywhere  2022\n",
       "...                        ...                           ...   ...\n",
       "2193  Leave Before You Love Me   Marshmello & Jonas Brothers  2021\n",
       "2194                    Beggin                      Maneskin  2021\n",
       "2195            Famous Friends      Chris Young + Kane Brown  2021\n",
       "2196                   Lil Bit  Nelly & Florida Georgia Line  2021\n",
       "2197                 Thot Shit           Megan Thee Stallion  2021\n",
       "\n",
       "[2296 rows x 3 columns]"
      ]
     },
     "execution_count": 283,
     "metadata": {},
     "output_type": "execute_result"
    }
   ],
   "source": [
    "full_list_df"
   ]
  },
  {
   "cell_type": "markdown",
   "id": "9469434b",
   "metadata": {},
   "source": [
    " - Apply the same logic to other \"groups\" of songs: the best songs from a decade or from a country / culture / language / genre."
   ]
  },
  {
   "cell_type": "markdown",
   "id": "f2533c11",
   "metadata": {},
   "source": []
  },
  {
   "cell_type": "code",
   "execution_count": null,
   "id": "13cce29a",
   "metadata": {},
   "outputs": [],
   "source": []
  }
 ],
 "metadata": {
  "kernelspec": {
   "display_name": "Python 3 (ipykernel)",
   "language": "python",
   "name": "python3"
  },
  "language_info": {
   "codemirror_mode": {
    "name": "ipython",
    "version": 3
   },
   "file_extension": ".py",
   "mimetype": "text/x-python",
   "name": "python",
   "nbconvert_exporter": "python",
   "pygments_lexer": "ipython3",
   "version": "3.9.12"
  }
 },
 "nbformat": 4,
 "nbformat_minor": 5
}
