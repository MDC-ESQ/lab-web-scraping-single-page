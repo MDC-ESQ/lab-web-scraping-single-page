{
 "cells": [
  {
   "cell_type": "markdown",
   "id": "ac6d9ea6",
   "metadata": {},
   "source": [
    "# Lab | Web Scraping Multiple Pages\n",
    "\n",
    "Expand the project"
   ]
  },
  {
   "cell_type": "code",
   "execution_count": 89,
   "id": "f1788eb7",
   "metadata": {},
   "outputs": [],
   "source": [
    "from bs4 import BeautifulSoup\n",
    "import requests\n",
    "import pandas as pd\n",
    "from random import randint\n",
    "from time import sleep\n",
    "import random\n",
    "import re\n",
    "import datetime \n",
    "import numpy as np\n",
    "from sklearn.preprocessing import StandardScaler\n",
    "from sklearn.preprocessing import MinMaxScaler\n",
    "from sklearn.cluster import KMeans\n",
    "from sklearn.metrics import silhouette_score\n",
    "import matplotlib.pyplot as plt\n",
    "from sklearn import cluster, datasets\n",
    "import spotipy\n",
    "from spotipy.oauth2 import SpotifyClientCredentials\n"
   ]
  },
  {
   "cell_type": "markdown",
   "id": "65a07b5a",
   "metadata": {},
   "source": [
    "Find other lists of hot songs on the internet and scrape them too: having a bigger pool of songs will be awesome!"
   ]
  },
  {
   "cell_type": "code",
   "execution_count": 90,
   "id": "84b72666",
   "metadata": {},
   "outputs": [],
   "source": [
    "def top100(url):\n",
    "    \n",
    "    #make a request to extract the content from the website\n",
    "    response = requests.get(url)\n",
    "    print(response.status_code) # 200 status code means OK!\n",
    "    \n",
    "    \n",
    "    #Parse the HTML string to a Tree-Based structure\n",
    "    soup = BeautifulSoup(response.content, \"html.parser\")\n",
    "    #print(soup.prettify())\n",
    "    \n",
    "    \n",
    "    #create lists to store information\n",
    "    df = pd.DataFrame()\n",
    "    top100_songs = []\n",
    "    top100_artist = []\n",
    "    top100_year = []\n",
    "\n",
    "    \n",
    "    #Search for required elements\n",
    "    num_iter = len(soup.select(\".title-artist\")) #to be adjusted according to the website\n",
    "    song = soup.select(\".title\") #to be adjusted according to the website\n",
    "    artist = soup.select(\".artist\") #to be adjusted according to the website\n",
    "    year = soup.select(\".article-date\") #to be adjusted according to the website\n",
    "\n",
    "    \n",
    "    for i in range(num_iter):\n",
    "        top100_songs.append(song[i].get_text().replace('\\n',''))\n",
    "        top100_artist.append(artist[i].get_text().replace('\\n',''))\n",
    "    \n",
    "    \n",
    "    for i in year:\n",
    "        match = re.search(r'\\d{4}', i.parent.text)\n",
    "        date = datetime.datetime.strptime(match.group(), '%Y').year\n",
    "        top100_year.append(date)\n",
    "    top100_year = top100_year[0]\n",
    "    \n",
    "    \n",
    "    df['title'] = top100_songs\n",
    "    df['artist'] = top100_artist\n",
    "    df['year'] = top100_year\n",
    "    df = df.reset_index(drop=True)\n",
    "    \n",
    "    return df"
   ]
  },
  {
   "cell_type": "code",
   "execution_count": 91,
   "id": "8d1b887d",
   "metadata": {},
   "outputs": [
    {
     "name": "stdout",
     "output_type": "stream",
     "text": [
      "200\n"
     ]
    }
   ],
   "source": [
    "top100_songs2 = top100('https://www.officialcharts.com/charts/singles-chart/')"
   ]
  },
  {
   "cell_type": "code",
   "execution_count": 92,
   "id": "fe97aa0c",
   "metadata": {},
   "outputs": [
    {
     "data": {
      "text/html": [
       "<div>\n",
       "<style scoped>\n",
       "    .dataframe tbody tr th:only-of-type {\n",
       "        vertical-align: middle;\n",
       "    }\n",
       "\n",
       "    .dataframe tbody tr th {\n",
       "        vertical-align: top;\n",
       "    }\n",
       "\n",
       "    .dataframe thead th {\n",
       "        text-align: right;\n",
       "    }\n",
       "</style>\n",
       "<table border=\"1\" class=\"dataframe\">\n",
       "  <thead>\n",
       "    <tr style=\"text-align: right;\">\n",
       "      <th></th>\n",
       "      <th>title</th>\n",
       "      <th>artist</th>\n",
       "      <th>year</th>\n",
       "    </tr>\n",
       "  </thead>\n",
       "  <tbody>\n",
       "    <tr>\n",
       "      <th>0</th>\n",
       "      <td>UNHOLY</td>\n",
       "      <td>SAM SMITH &amp; KIM PETRAS</td>\n",
       "      <td>2022</td>\n",
       "    </tr>\n",
       "    <tr>\n",
       "      <th>1</th>\n",
       "      <td>I'M GOOD (BLUE)</td>\n",
       "      <td>DAVID GUETTA &amp; BEBE REXHA</td>\n",
       "      <td>2022</td>\n",
       "    </tr>\n",
       "    <tr>\n",
       "      <th>2</th>\n",
       "      <td>FORGET ME</td>\n",
       "      <td>LEWIS CAPALDI</td>\n",
       "      <td>2022</td>\n",
       "    </tr>\n",
       "    <tr>\n",
       "      <th>3</th>\n",
       "      <td>I AIN'T WORRIED</td>\n",
       "      <td>ONEREPUBLIC</td>\n",
       "      <td>2022</td>\n",
       "    </tr>\n",
       "    <tr>\n",
       "      <th>4</th>\n",
       "      <td>CUFF IT</td>\n",
       "      <td>BEYONCE</td>\n",
       "      <td>2022</td>\n",
       "    </tr>\n",
       "    <tr>\n",
       "      <th>...</th>\n",
       "      <td>...</td>\n",
       "      <td>...</td>\n",
       "      <td>...</td>\n",
       "    </tr>\n",
       "    <tr>\n",
       "      <th>95</th>\n",
       "      <td>UH OH</td>\n",
       "      <td>TATE MCRAE</td>\n",
       "      <td>2022</td>\n",
       "    </tr>\n",
       "    <tr>\n",
       "      <th>96</th>\n",
       "      <td>NOT ANOTHER ROCKSTAR</td>\n",
       "      <td>MAISIE PETERS</td>\n",
       "      <td>2022</td>\n",
       "    </tr>\n",
       "    <tr>\n",
       "      <th>97</th>\n",
       "      <td>GOLDEN HOUR</td>\n",
       "      <td>JVKE</td>\n",
       "      <td>2022</td>\n",
       "    </tr>\n",
       "    <tr>\n",
       "      <th>98</th>\n",
       "      <td>SAVE YOUR TEARS</td>\n",
       "      <td>WEEKND</td>\n",
       "      <td>2022</td>\n",
       "    </tr>\n",
       "    <tr>\n",
       "      <th>99</th>\n",
       "      <td>THIS IS WHY</td>\n",
       "      <td>PARAMORE</td>\n",
       "      <td>2022</td>\n",
       "    </tr>\n",
       "  </tbody>\n",
       "</table>\n",
       "<p>100 rows × 3 columns</p>\n",
       "</div>"
      ],
      "text/plain": [
       "                   title                     artist  year\n",
       "0                 UNHOLY     SAM SMITH & KIM PETRAS  2022\n",
       "1        I'M GOOD (BLUE)  DAVID GUETTA & BEBE REXHA  2022\n",
       "2              FORGET ME              LEWIS CAPALDI  2022\n",
       "3        I AIN'T WORRIED                ONEREPUBLIC  2022\n",
       "4                CUFF IT                    BEYONCE  2022\n",
       "..                   ...                        ...   ...\n",
       "95                 UH OH                 TATE MCRAE  2022\n",
       "96  NOT ANOTHER ROCKSTAR              MAISIE PETERS  2022\n",
       "97           GOLDEN HOUR                       JVKE  2022\n",
       "98       SAVE YOUR TEARS                     WEEKND  2022\n",
       "99           THIS IS WHY                   PARAMORE  2022\n",
       "\n",
       "[100 rows x 3 columns]"
      ]
     },
     "execution_count": 92,
     "metadata": {},
     "output_type": "execute_result"
    }
   ],
   "source": [
    "top100_songs2"
   ]
  },
  {
   "cell_type": "code",
   "execution_count": null,
   "id": "45e34af2",
   "metadata": {},
   "outputs": [],
   "source": []
  },
  {
   "cell_type": "code",
   "execution_count": 99,
   "id": "86ac9d2d",
   "metadata": {},
   "outputs": [
    {
     "data": {
      "text/plain": [
       "(108, 3)"
      ]
     },
     "execution_count": 99,
     "metadata": {},
     "output_type": "execute_result"
    }
   ],
   "source": [
    "top100_songs_list = [top100_songs, top100_songs2]  # List of top 100\n",
    "top100_songs_all = pd.concat(top100_songs_list, axis=0)\n",
    "\n",
    "# convert ‘title’ and ‘ artist‘ columns values into lowercase.\n",
    "top100_songs_all['title'] = top100_songs_all['title'].str.lower()\n",
    "top100_songs_all['artist'] = top100_songs_all['artist'].str.lower()\n",
    "\n",
    "#remove duplicates\n",
    "top100_songs_all = top100_songs_all.drop_duplicates()\n",
    "top100_songs_all.shape"
   ]
  },
  {
   "cell_type": "code",
   "execution_count": 98,
   "id": "5b4697de",
   "metadata": {},
   "outputs": [],
   "source": [
    "#Export to excel\n",
    "top100_songs_all.to_excel('top100_songs_all.xlsx', sheet_name='top100_all')  "
   ]
  },
  {
   "cell_type": "code",
   "execution_count": 87,
   "id": "93a06aff",
   "metadata": {},
   "outputs": [
    {
     "name": "stdout",
     "output_type": "stream",
     "text": [
      "\n",
      "One of my favourite music is...? Burguesinha\n",
      "Oh, bad luck. Your favourite music is not in the Top 100. Here is a music you might like too:  ['GOLDEN HOUR']\n"
     ]
    }
   ],
   "source": [
    "#ask user for a song he/she likes\n",
    "music = input(\"\\nOne of my favourite music is...? \") \n",
    "top100_songs_list = list(top100_songs_all['title'])\n",
    "\n",
    "#get a random music form the top100\n",
    "random_music = random.choices(top100_songs_list)\n",
    "    \n",
    "if music in top100_songs_list:\n",
    "    print('Great choice. Here is another music from the Top 100: ',random_music)\n",
    "else:\n",
    "    print('Oh, bad luck. Your favourite music is not in the Top 100. Here is a music you might like too: ',random_music)"
   ]
  },
  {
   "cell_type": "code",
   "execution_count": null,
   "id": "7526c4df",
   "metadata": {},
   "outputs": [],
   "source": []
  },
  {
   "cell_type": "code",
   "execution_count": null,
   "id": "709b3fb0",
   "metadata": {},
   "outputs": [],
   "source": []
  },
  {
   "cell_type": "code",
   "execution_count": null,
   "id": "c1a0b41c",
   "metadata": {},
   "outputs": [],
   "source": []
  }
 ],
 "metadata": {
  "kernelspec": {
   "display_name": "Python 3 (ipykernel)",
   "language": "python",
   "name": "python3"
  },
  "language_info": {
   "codemirror_mode": {
    "name": "ipython",
    "version": 3
   },
   "file_extension": ".py",
   "mimetype": "text/x-python",
   "name": "python",
   "nbconvert_exporter": "python",
   "pygments_lexer": "ipython3",
   "version": "3.9.12"
  }
 },
 "nbformat": 4,
 "nbformat_minor": 5
}
