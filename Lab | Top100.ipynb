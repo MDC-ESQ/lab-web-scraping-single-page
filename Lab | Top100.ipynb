{
 "cells": [
  {
   "cell_type": "markdown",
   "id": "45e78897",
   "metadata": {},
   "source": [
    "# Lab | Web Scraping Single Page\n",
    "\n",
    "Instructions - Scraping popular songs\n",
    "\n",
    "Your product will take a song as an input from the user and will output another song (the recommendation). In most cases, the recommended song will have to be similar to the inputted song, but the CTO thinks that if the song is on the top charts at the moment, the user will enjoy more a recommendation of a song that's also popular at the moment.\n",
    "\n",
    "\n",
    "You have find data on the internet about currently popular songs.\n",
    "It's a good place to start! Scrape the current top 100 songs and their respective artists, and put the information into a pandas dataframe."
   ]
  },
  {
   "cell_type": "code",
   "execution_count": 23,
   "id": "b17cada8",
   "metadata": {},
   "outputs": [],
   "source": [
    "    from bs4 import BeautifulSoup\n",
    "    import requests\n",
    "    import pandas as pd\n",
    "    from random import randint\n",
    "    from time import sleep\n",
    "    import random\n",
    "    import numpy as np\n",
    "    from sklearn.preprocessing import StandardScaler\n",
    "    from sklearn.preprocessing import MinMaxScaler\n",
    "    from sklearn.cluster import KMeans\n",
    "    from sklearn.metrics import silhouette_score\n",
    "    import matplotlib.pyplot as plt\n",
    "    from sklearn import cluster, datasets"
   ]
  },
  {
   "cell_type": "code",
   "execution_count": 55,
   "id": "cf9b154a",
   "metadata": {},
   "outputs": [],
   "source": [
    "def top100(url):\n",
    "    \n",
    "    #make a request to extract the content from the website\n",
    "    response = requests.get(url)\n",
    "    print(response.status_code) # 200 status code means OK!\n",
    "    \n",
    "    \n",
    "    #Parse the HTML string to a Tree-Based structure\n",
    "    soup = BeautifulSoup(response.content, \"html.parser\")\n",
    "    #print(soup.prettify())\n",
    "    \n",
    "    \n",
    "    #create lists to store information\n",
    "    df = pd.DataFrame()\n",
    "    top100_songs = []\n",
    "    top100_artist = []\n",
    "    year = []\n",
    "\n",
    "    \n",
    "    #Search for required elements\n",
    "    num_iter = len(soup.select(\".title-artist\")) #to be adjusted according to the website\n",
    "    song = soup.select(\".title\") #to be adjusted according to the website\n",
    "    artist = soup.select(\".artist\") #to be adjusted according to the website\n",
    "\n",
    "    \n",
    "    for i in range(num_iter):\n",
    "        top100_songs.append(song[i].get_text())\n",
    "        top100_artist.append(artist[i].get_text())\n",
    "        year.append(2022)\n",
    "    \n",
    "    \n",
    "    df['title'] = top100_songs\n",
    "    df['artist'] = top100_artist\n",
    "    df['year'] = year\n",
    "    df = df.reset_index(drop=True)\n",
    "    \n",
    "    return df"
   ]
  },
  {
   "cell_type": "code",
   "execution_count": 56,
   "id": "c29a2e4c",
   "metadata": {},
   "outputs": [
    {
     "name": "stdout",
     "output_type": "stream",
     "text": [
      "200\n"
     ]
    }
   ],
   "source": [
    "top100_songs = top100('https://www.popvortex.com/music/charts/top-100-songs.php')"
   ]
  },
  {
   "cell_type": "code",
   "execution_count": 57,
   "id": "62758f7d",
   "metadata": {},
   "outputs": [],
   "source": [
    "#Export to excel\n",
    "top100_songs.to_excel('top100_songs_df.xlsx', sheet_name='top100')  "
   ]
  },
  {
   "cell_type": "code",
   "execution_count": 70,
   "id": "20183a00",
   "metadata": {},
   "outputs": [
    {
     "data": {
      "text/html": [
       "<div>\n",
       "<style scoped>\n",
       "    .dataframe tbody tr th:only-of-type {\n",
       "        vertical-align: middle;\n",
       "    }\n",
       "\n",
       "    .dataframe tbody tr th {\n",
       "        vertical-align: top;\n",
       "    }\n",
       "\n",
       "    .dataframe thead th {\n",
       "        text-align: right;\n",
       "    }\n",
       "</style>\n",
       "<table border=\"1\" class=\"dataframe\">\n",
       "  <thead>\n",
       "    <tr style=\"text-align: right;\">\n",
       "      <th></th>\n",
       "      <th>title</th>\n",
       "      <th>artist</th>\n",
       "      <th>year</th>\n",
       "    </tr>\n",
       "  </thead>\n",
       "  <tbody>\n",
       "    <tr>\n",
       "      <th>0</th>\n",
       "      <td>Unholy</td>\n",
       "      <td>Sam Smith &amp; Kim Petras</td>\n",
       "      <td>2022</td>\n",
       "    </tr>\n",
       "    <tr>\n",
       "      <th>1</th>\n",
       "      <td>Face It Alone</td>\n",
       "      <td>Queen</td>\n",
       "      <td>2022</td>\n",
       "    </tr>\n",
       "    <tr>\n",
       "      <th>2</th>\n",
       "      <td>I'm Good (Blue)</td>\n",
       "      <td>David Guetta &amp; Bebe Rexha</td>\n",
       "      <td>2022</td>\n",
       "    </tr>\n",
       "    <tr>\n",
       "      <th>3</th>\n",
       "      <td>Thank God</td>\n",
       "      <td>Kane Brown &amp; Katelyn Brown</td>\n",
       "      <td>2022</td>\n",
       "    </tr>\n",
       "    <tr>\n",
       "      <th>4</th>\n",
       "      <td>EDGING</td>\n",
       "      <td>blink-182</td>\n",
       "      <td>2022</td>\n",
       "    </tr>\n",
       "    <tr>\n",
       "      <th>...</th>\n",
       "      <td>...</td>\n",
       "      <td>...</td>\n",
       "      <td>...</td>\n",
       "    </tr>\n",
       "    <tr>\n",
       "      <th>95</th>\n",
       "      <td>golden hour</td>\n",
       "      <td>JVKE</td>\n",
       "      <td>2022</td>\n",
       "    </tr>\n",
       "    <tr>\n",
       "      <th>96</th>\n",
       "      <td>Take Me Home, Country Roads</td>\n",
       "      <td>John Denver</td>\n",
       "      <td>2022</td>\n",
       "    </tr>\n",
       "    <tr>\n",
       "      <th>97</th>\n",
       "      <td>How Far I'll Go</td>\n",
       "      <td>Auli'i Cravalho</td>\n",
       "      <td>2022</td>\n",
       "    </tr>\n",
       "    <tr>\n",
       "      <th>98</th>\n",
       "      <td>Glimpse of Us</td>\n",
       "      <td>Joji</td>\n",
       "      <td>2022</td>\n",
       "    </tr>\n",
       "    <tr>\n",
       "      <th>99</th>\n",
       "      <td>Wishful Drinking</td>\n",
       "      <td>Ingrid Andress &amp; Sam Hunt</td>\n",
       "      <td>2022</td>\n",
       "    </tr>\n",
       "  </tbody>\n",
       "</table>\n",
       "<p>100 rows × 3 columns</p>\n",
       "</div>"
      ],
      "text/plain": [
       "                          title                      artist  year\n",
       "0                        Unholy      Sam Smith & Kim Petras  2022\n",
       "1                 Face It Alone                       Queen  2022\n",
       "2               I'm Good (Blue)   David Guetta & Bebe Rexha  2022\n",
       "3                     Thank God  Kane Brown & Katelyn Brown  2022\n",
       "4                        EDGING                   blink-182  2022\n",
       "..                          ...                         ...   ...\n",
       "95                  golden hour                        JVKE  2022\n",
       "96  Take Me Home, Country Roads                 John Denver  2022\n",
       "97              How Far I'll Go             Auli'i Cravalho  2022\n",
       "98                Glimpse of Us                        Joji  2022\n",
       "99             Wishful Drinking   Ingrid Andress & Sam Hunt  2022\n",
       "\n",
       "[100 rows x 3 columns]"
      ]
     },
     "execution_count": 70,
     "metadata": {},
     "output_type": "execute_result"
    }
   ],
   "source": [
    "#Read excel files \n",
    "top100_songs = pd.read_excel('top100_songs_df.xlsx')\n",
    "top100_songs = top100_songs.drop(['Unnamed: 0'], axis = 1).reset_index(drop=True)\n",
    "top100_songs"
   ]
  },
  {
   "cell_type": "markdown",
   "id": "21b25d90",
   "metadata": {},
   "source": [
    "#### Music recommender"
   ]
  },
  {
   "cell_type": "code",
   "execution_count": 74,
   "id": "ca80bf66",
   "metadata": {},
   "outputs": [
    {
     "name": "stdout",
     "output_type": "stream",
     "text": [
      "\n",
      "One of my favourite music is...? Everywhere\n",
      "Great choice. Here is another music from the Top 100:  ['Love Me Like You Do']\n"
     ]
    }
   ],
   "source": [
    "#ask user for a song he/she likes\n",
    "music = input(\"\\nOne of my favourite music is...? \") \n",
    "top100_songs_list = list(top100_songs['title'])\n",
    "\n",
    "#get a random music form the top100\n",
    "random_music = random.choices(top100_songs_list)\n",
    "    \n",
    "if music in top100_songs_list:\n",
    "    print('Great choice. Here is another music from the Top 100: ',random_music)\n",
    "else:\n",
    "    print('Oh, bad luck. Your favourite music is not in the Top 100. Here is a music you might like too: ',random_music)"
   ]
  },
  {
   "cell_type": "code",
   "execution_count": null,
   "id": "102c1eab",
   "metadata": {},
   "outputs": [],
   "source": []
  },
  {
   "cell_type": "code",
   "execution_count": null,
   "id": "f186af84",
   "metadata": {},
   "outputs": [],
   "source": []
  }
 ],
 "metadata": {
  "kernelspec": {
   "display_name": "Python 3 (ipykernel)",
   "language": "python",
   "name": "python3"
  },
  "language_info": {
   "codemirror_mode": {
    "name": "ipython",
    "version": 3
   },
   "file_extension": ".py",
   "mimetype": "text/x-python",
   "name": "python",
   "nbconvert_exporter": "python",
   "pygments_lexer": "ipython3",
   "version": "3.9.12"
  }
 },
 "nbformat": 4,
 "nbformat_minor": 5
}
