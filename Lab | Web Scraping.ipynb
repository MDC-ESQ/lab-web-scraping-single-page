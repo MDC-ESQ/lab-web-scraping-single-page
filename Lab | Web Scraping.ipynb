{
 "cells": [
  {
   "cell_type": "markdown",
   "id": "7e58b265",
   "metadata": {},
   "source": [
    "# Lab | Web Scraping Single Page\n",
    "\n",
    "### Instructions - Scraping popular songs\n",
    "\n",
    "Your product will take a song as an input from the user and will output another song (the recommendation). In most cases, the recommended song will have to be similar to the inputted song, but the CTO thinks that if the song is on the top charts at the moment, the user will enjoy more a recommendation of a song that's also popular at the moment.\n",
    "\n",
    "You have find data on the internet about currently popular songs. \n",
    "\n",
    "It's a good place to start! Scrape the current top 100 songs and their respective artists, and put the information into a pandas dataframe."
   ]
  },
  {
   "cell_type": "code",
   "execution_count": 261,
   "id": "f1f7fc5f",
   "metadata": {},
   "outputs": [],
   "source": [
    "from bs4 import BeautifulSoup\n",
    "import requests\n",
    "import pandas as pd\n",
    "from random import randint\n",
    "from time import sleep\n",
    "import random"
   ]
  },
  {
   "cell_type": "code",
   "execution_count": 262,
   "id": "0e15e56f",
   "metadata": {},
   "outputs": [],
   "source": [
    "url = 'https://www.popvortex.com/music/charts/top-100-songs.php'"
   ]
  },
  {
   "cell_type": "code",
   "execution_count": 263,
   "id": "dc821fd1",
   "metadata": {},
   "outputs": [
    {
     "data": {
      "text/plain": [
       "200"
      ]
     },
     "execution_count": 263,
     "metadata": {},
     "output_type": "execute_result"
    }
   ],
   "source": [
    "response = requests.get(url)\n",
    "response.status_code # 200 status code means OK!"
   ]
  },
  {
   "cell_type": "code",
   "execution_count": 264,
   "id": "2fed8498",
   "metadata": {},
   "outputs": [],
   "source": [
    "soup = BeautifulSoup(response.content, \"html.parser\")"
   ]
  },
  {
   "cell_type": "code",
   "execution_count": 265,
   "id": "f4cc0099",
   "metadata": {},
   "outputs": [
    {
     "data": {
      "text/plain": [
       "[<p class=\"title-artist\"><cite class=\"title\">Unholy</cite><em class=\"artist\">Sam Smith &amp; Kim Petras</em></p>]"
      ]
     },
     "execution_count": 265,
     "metadata": {},
     "output_type": "execute_result"
    }
   ],
   "source": [
    "soup.select('#chart-position-1 > div.chart-content.col-xs-12.col-sm-8 > p')"
   ]
  },
  {
   "cell_type": "code",
   "execution_count": 266,
   "id": "09ff9204",
   "metadata": {},
   "outputs": [],
   "source": [
    "top100_songs = []\n",
    "top100_artist = []\n",
    "year = []\n",
    "\n",
    "num_iter = len(soup.select(\".title-artist\"))\n",
    "song = soup.select(\".title\")\n",
    "artist = soup.select(\".artist\")\n",
    "\n",
    "for i in range(num_iter):\n",
    "    top100_songs.append(song[i].get_text())\n",
    "    top100_artist.append(artist[i].get_text())\n",
    "    year.append(2022)\n",
    "\n",
    "#print(top100_songs)\n",
    "#print(top100_artist)"
   ]
  },
  {
   "cell_type": "code",
   "execution_count": 267,
   "id": "02022ef2",
   "metadata": {},
   "outputs": [],
   "source": [
    "top100_songs_df = pd.DataFrame({'title':top100_songs,\n",
    "                                'artist':top100_songs,\n",
    "                                'year':year})"
   ]
  },
  {
   "cell_type": "code",
   "execution_count": 268,
   "id": "e5ee5221",
   "metadata": {},
   "outputs": [
    {
     "data": {
      "text/html": [
       "<div>\n",
       "<style scoped>\n",
       "    .dataframe tbody tr th:only-of-type {\n",
       "        vertical-align: middle;\n",
       "    }\n",
       "\n",
       "    .dataframe tbody tr th {\n",
       "        vertical-align: top;\n",
       "    }\n",
       "\n",
       "    .dataframe thead th {\n",
       "        text-align: right;\n",
       "    }\n",
       "</style>\n",
       "<table border=\"1\" class=\"dataframe\">\n",
       "  <thead>\n",
       "    <tr style=\"text-align: right;\">\n",
       "      <th></th>\n",
       "      <th>title</th>\n",
       "      <th>artist</th>\n",
       "      <th>year</th>\n",
       "    </tr>\n",
       "  </thead>\n",
       "  <tbody>\n",
       "    <tr>\n",
       "      <th>0</th>\n",
       "      <td>Unholy</td>\n",
       "      <td>Unholy</td>\n",
       "      <td>2022</td>\n",
       "    </tr>\n",
       "    <tr>\n",
       "      <th>1</th>\n",
       "      <td>I'm Good (Blue)</td>\n",
       "      <td>I'm Good (Blue)</td>\n",
       "      <td>2022</td>\n",
       "    </tr>\n",
       "    <tr>\n",
       "      <th>2</th>\n",
       "      <td>wait in the truck</td>\n",
       "      <td>wait in the truck</td>\n",
       "      <td>2022</td>\n",
       "    </tr>\n",
       "    <tr>\n",
       "      <th>3</th>\n",
       "      <td>Thank God</td>\n",
       "      <td>Thank God</td>\n",
       "      <td>2022</td>\n",
       "    </tr>\n",
       "    <tr>\n",
       "      <th>4</th>\n",
       "      <td>Everywhere</td>\n",
       "      <td>Everywhere</td>\n",
       "      <td>2022</td>\n",
       "    </tr>\n",
       "  </tbody>\n",
       "</table>\n",
       "</div>"
      ],
      "text/plain": [
       "               title             artist  year\n",
       "0             Unholy             Unholy  2022\n",
       "1    I'm Good (Blue)    I'm Good (Blue)  2022\n",
       "2  wait in the truck  wait in the truck  2022\n",
       "3          Thank God          Thank God  2022\n",
       "4         Everywhere         Everywhere  2022"
      ]
     },
     "execution_count": 268,
     "metadata": {},
     "output_type": "execute_result"
    }
   ],
   "source": [
    "top100_songs_df.head()"
   ]
  },
  {
   "cell_type": "code",
   "execution_count": 269,
   "id": "30eee4d7",
   "metadata": {},
   "outputs": [
    {
     "name": "stdout",
     "output_type": "stream",
     "text": [
      "\n",
      "Enter your music? Thank God\n",
      "Great choice. Here is another music from the Top 100:  Build a Boat\n"
     ]
    }
   ],
   "source": [
    "#ask user for a song he/she likes\n",
    "music = input(\"\\nEnter your music? \") \n",
    "\n",
    "#get a random music form the top100\n",
    "random_music = random.choice(top100_songs) \n",
    "    \n",
    "if music in top100_songs_df['title'].values:\n",
    "    print('Great choice. Here is another music from the Top 100: ',random_music)\n",
    "else:\n",
    "    print('Oh, bad luck! Try again tomorrow or listen to one of the musics from the Top 100: ', random_music)\n"
   ]
  },
  {
   "cell_type": "markdown",
   "id": "71a3e483",
   "metadata": {},
   "source": [
    "# Lab | Web Scraping Multiple Pages\n",
    "\n",
    "#### Expand the project\n",
    "\n",
    "If you're done, you can try to expand the project on your own. Here are a few suggestions:\n",
    "\n",
    " - Find other lists of hot songs on the internet and scrape them too: having a bigger pool of songs will be awesome!"
   ]
  },
  {
   "cell_type": "code",
   "execution_count": 270,
   "id": "fcb51f5e",
   "metadata": {},
   "outputs": [],
   "source": [
    "url = \"https://playback.fm/charts/top-100-songs/2000\""
   ]
  },
  {
   "cell_type": "code",
   "execution_count": 271,
   "id": "5442ac41",
   "metadata": {},
   "outputs": [
    {
     "data": {
      "text/plain": [
       "200"
      ]
     },
     "execution_count": 271,
     "metadata": {},
     "output_type": "execute_result"
    }
   ],
   "source": [
    "response = requests.get(url)\n",
    "response.status_code"
   ]
  },
  {
   "cell_type": "code",
   "execution_count": 272,
   "id": "30ac8fff",
   "metadata": {},
   "outputs": [],
   "source": [
    "soup = BeautifulSoup(response.content, \"html.parser\")"
   ]
  },
  {
   "cell_type": "code",
   "execution_count": 273,
   "id": "184a97d1",
   "metadata": {},
   "outputs": [
    {
     "name": "stdout",
     "output_type": "stream",
     "text": [
      "2000\n",
      "2001\n",
      "2002\n",
      "2003\n",
      "2004\n",
      "2005\n",
      "2006\n",
      "2007\n",
      "2008\n",
      "2009\n",
      "2010\n",
      "2011\n",
      "2012\n",
      "2013\n",
      "2014\n",
      "2015\n",
      "2016\n",
      "2017\n",
      "2018\n",
      "2019\n",
      "2020\n",
      "2021\n"
     ]
    }
   ],
   "source": [
    "iterations = range(2000, 2022)\n",
    "for i in iterations:\n",
    "    print(i)\n"
   ]
  },
  {
   "cell_type": "code",
   "execution_count": 274,
   "id": "bc05e27d",
   "metadata": {},
   "outputs": [],
   "source": [
    "pages = []\n",
    "\n",
    "iterations = range(2000, 2022)\n",
    "[i for i in iterations]\n",
    "\n",
    "for i in iterations:\n",
    "    year= str(i)\n",
    "    url = \"https://playback.fm/charts/top-100-songs/\" + year\n",
    "    \n",
    "    response = requests.get(url)\n",
    "\n",
    "    # monitor the process by printing the status code\n",
    "    #print(\"Status code: \" + str(response.status_code))\n",
    "\n",
    "    # store response into \"pages\" list\n",
    "    pages.append(response)\n",
    "\n",
    "    # respectful nap:\n",
    "    wait_time = randint(1,2)\n",
    "    sleep(wait_time)\n",
    "    "
   ]
  },
  {
   "cell_type": "code",
   "execution_count": 275,
   "id": "0e50dddb",
   "metadata": {},
   "outputs": [],
   "source": [
    "new_song_list = []\n",
    "new_artist_list = []\n",
    "year = []\n",
    "\n",
    "\n",
    "for i in range(len(pages)):\n",
    "    # parse all pages\n",
    "    soup = BeautifulSoup(pages[i].content, \"html.parser\")\n",
    "    \n",
    "    songs_catalogue = soup.select('#myTable')\n",
    "    \n",
    "    song = soup.select(\".song a\")\n",
    "    artist = soup.select(\".artist\")\n",
    "    \n",
    "    \n",
    "  \n",
    "    \n",
    "    for j in range(len(song)):\n",
    "        new_song_list.append(song[j].get_text().replace('\\n','')) \n",
    "        new_artist_list.append(artist[j].get_text().replace('\\n',''))\n",
    "        year.append(i)\n",
    "            \n",
    "#print(new_song_list)\n",
    "#print(new_artist_list)\n",
    "#print(year)\n"
   ]
  },
  {
   "cell_type": "code",
   "execution_count": 276,
   "id": "a7c2a4a9",
   "metadata": {},
   "outputs": [
    {
     "data": {
      "text/html": [
       "<div>\n",
       "<style scoped>\n",
       "    .dataframe tbody tr th:only-of-type {\n",
       "        vertical-align: middle;\n",
       "    }\n",
       "\n",
       "    .dataframe tbody tr th {\n",
       "        vertical-align: top;\n",
       "    }\n",
       "\n",
       "    .dataframe thead th {\n",
       "        text-align: right;\n",
       "    }\n",
       "</style>\n",
       "<table border=\"1\" class=\"dataframe\">\n",
       "  <thead>\n",
       "    <tr style=\"text-align: right;\">\n",
       "      <th></th>\n",
       "      <th>title</th>\n",
       "      <th>artist</th>\n",
       "      <th>year</th>\n",
       "    </tr>\n",
       "  </thead>\n",
       "  <tbody>\n",
       "    <tr>\n",
       "      <th>0</th>\n",
       "      <td>Music</td>\n",
       "      <td>Madonna</td>\n",
       "      <td>0</td>\n",
       "    </tr>\n",
       "    <tr>\n",
       "      <th>1</th>\n",
       "      <td>Beautiful Day</td>\n",
       "      <td>U2</td>\n",
       "      <td>0</td>\n",
       "    </tr>\n",
       "    <tr>\n",
       "      <th>2</th>\n",
       "      <td>Bye, Bye, Bye</td>\n",
       "      <td>N Sync</td>\n",
       "      <td>0</td>\n",
       "    </tr>\n",
       "    <tr>\n",
       "      <th>3</th>\n",
       "      <td>Stan</td>\n",
       "      <td>Eminem</td>\n",
       "      <td>0</td>\n",
       "    </tr>\n",
       "    <tr>\n",
       "      <th>4</th>\n",
       "      <td>Oops!... I Did it Again</td>\n",
       "      <td>Britney Spears</td>\n",
       "      <td>0</td>\n",
       "    </tr>\n",
       "  </tbody>\n",
       "</table>\n",
       "</div>"
      ],
      "text/plain": [
       "                     title          artist  year\n",
       "0                    Music         Madonna     0\n",
       "1            Beautiful Day              U2     0\n",
       "2            Bye, Bye, Bye          N Sync     0\n",
       "3                     Stan          Eminem     0\n",
       "4  Oops!... I Did it Again  Britney Spears     0"
      ]
     },
     "execution_count": 276,
     "metadata": {},
     "output_type": "execute_result"
    }
   ],
   "source": [
    "# Turn new list into a dataframe\n",
    "\n",
    "top100_new_list_df = pd.DataFrame({'title':new_song_list,\n",
    "                                  'artist':new_artist_list,\n",
    "                                  'year':year})\n",
    "top100_new_list_df.head()"
   ]
  },
  {
   "cell_type": "code",
   "execution_count": 277,
   "id": "32be4473",
   "metadata": {},
   "outputs": [],
   "source": [
    "top100_new_list_df['year']=top100_new_list_df['year'].replace(to_replace = [0, 1, 2, 3, 4, 5, 6, 7, 8, 9, 10, 11, 12, 13, 14, 15, 16, 17, 18, 19, 20, 21, 22],\n",
    "                                                              value = [2000, 2001, 2002, 2003, 2004, 2005, 2006, 2007, 2008, 2009, 2010, 2011, 2012, 2013, 2014, 2015, 2016, 2017, 2018, 2019, 2020, 2021, 2022])"
   ]
  },
  {
   "cell_type": "code",
   "execution_count": 278,
   "id": "76b88ec6",
   "metadata": {},
   "outputs": [],
   "source": [
    "full_list_df = pd.concat([top100_songs_df,top100_new_list_df], axis=0)"
   ]
  },
  {
   "cell_type": "code",
   "execution_count": 279,
   "id": "ea131290",
   "metadata": {},
   "outputs": [
    {
     "data": {
      "text/plain": [
       "(2298, 3)"
      ]
     },
     "execution_count": 279,
     "metadata": {},
     "output_type": "execute_result"
    }
   ],
   "source": [
    "full_list_df.shape"
   ]
  },
  {
   "cell_type": "code",
   "execution_count": 280,
   "id": "118f84d7",
   "metadata": {},
   "outputs": [],
   "source": [
    "full_list_df = full_list_df.drop_duplicates()"
   ]
  },
  {
   "cell_type": "code",
   "execution_count": 281,
   "id": "b8869ba3",
   "metadata": {},
   "outputs": [
    {
     "data": {
      "text/plain": [
       "(2296, 3)"
      ]
     },
     "execution_count": 281,
     "metadata": {},
     "output_type": "execute_result"
    }
   ],
   "source": [
    "full_list_df.shape"
   ]
  },
  {
   "cell_type": "code",
   "execution_count": 283,
   "id": "6e66403a",
   "metadata": {},
   "outputs": [
    {
     "data": {
      "text/html": [
       "<div>\n",
       "<style scoped>\n",
       "    .dataframe tbody tr th:only-of-type {\n",
       "        vertical-align: middle;\n",
       "    }\n",
       "\n",
       "    .dataframe tbody tr th {\n",
       "        vertical-align: top;\n",
       "    }\n",
       "\n",
       "    .dataframe thead th {\n",
       "        text-align: right;\n",
       "    }\n",
       "</style>\n",
       "<table border=\"1\" class=\"dataframe\">\n",
       "  <thead>\n",
       "    <tr style=\"text-align: right;\">\n",
       "      <th></th>\n",
       "      <th>title</th>\n",
       "      <th>artist</th>\n",
       "      <th>year</th>\n",
       "    </tr>\n",
       "  </thead>\n",
       "  <tbody>\n",
       "    <tr>\n",
       "      <th>0</th>\n",
       "      <td>Unholy</td>\n",
       "      <td>Unholy</td>\n",
       "      <td>2022</td>\n",
       "    </tr>\n",
       "    <tr>\n",
       "      <th>1</th>\n",
       "      <td>I'm Good (Blue)</td>\n",
       "      <td>I'm Good (Blue)</td>\n",
       "      <td>2022</td>\n",
       "    </tr>\n",
       "    <tr>\n",
       "      <th>2</th>\n",
       "      <td>wait in the truck</td>\n",
       "      <td>wait in the truck</td>\n",
       "      <td>2022</td>\n",
       "    </tr>\n",
       "    <tr>\n",
       "      <th>3</th>\n",
       "      <td>Thank God</td>\n",
       "      <td>Thank God</td>\n",
       "      <td>2022</td>\n",
       "    </tr>\n",
       "    <tr>\n",
       "      <th>4</th>\n",
       "      <td>Everywhere</td>\n",
       "      <td>Everywhere</td>\n",
       "      <td>2022</td>\n",
       "    </tr>\n",
       "    <tr>\n",
       "      <th>...</th>\n",
       "      <td>...</td>\n",
       "      <td>...</td>\n",
       "      <td>...</td>\n",
       "    </tr>\n",
       "    <tr>\n",
       "      <th>2193</th>\n",
       "      <td>Leave Before You Love Me</td>\n",
       "      <td>Marshmello &amp; Jonas Brothers</td>\n",
       "      <td>2021</td>\n",
       "    </tr>\n",
       "    <tr>\n",
       "      <th>2194</th>\n",
       "      <td>Beggin</td>\n",
       "      <td>Maneskin</td>\n",
       "      <td>2021</td>\n",
       "    </tr>\n",
       "    <tr>\n",
       "      <th>2195</th>\n",
       "      <td>Famous Friends</td>\n",
       "      <td>Chris Young + Kane Brown</td>\n",
       "      <td>2021</td>\n",
       "    </tr>\n",
       "    <tr>\n",
       "      <th>2196</th>\n",
       "      <td>Lil Bit</td>\n",
       "      <td>Nelly &amp; Florida Georgia Line</td>\n",
       "      <td>2021</td>\n",
       "    </tr>\n",
       "    <tr>\n",
       "      <th>2197</th>\n",
       "      <td>Thot Shit</td>\n",
       "      <td>Megan Thee Stallion</td>\n",
       "      <td>2021</td>\n",
       "    </tr>\n",
       "  </tbody>\n",
       "</table>\n",
       "<p>2296 rows × 3 columns</p>\n",
       "</div>"
      ],
      "text/plain": [
       "                         title                        artist  year\n",
       "0                       Unholy                        Unholy  2022\n",
       "1              I'm Good (Blue)               I'm Good (Blue)  2022\n",
       "2            wait in the truck             wait in the truck  2022\n",
       "3                    Thank God                     Thank God  2022\n",
       "4                   Everywhere                    Everywhere  2022\n",
       "...                        ...                           ...   ...\n",
       "2193  Leave Before You Love Me   Marshmello & Jonas Brothers  2021\n",
       "2194                    Beggin                      Maneskin  2021\n",
       "2195            Famous Friends      Chris Young + Kane Brown  2021\n",
       "2196                   Lil Bit  Nelly & Florida Georgia Line  2021\n",
       "2197                 Thot Shit           Megan Thee Stallion  2021\n",
       "\n",
       "[2296 rows x 3 columns]"
      ]
     },
     "execution_count": 283,
     "metadata": {},
     "output_type": "execute_result"
    }
   ],
   "source": [
    "full_list_df"
   ]
  },
  {
   "cell_type": "markdown",
   "id": "a360375d",
   "metadata": {},
   "source": [
    " - Apply the same logic to other \"groups\" of songs: the best songs from a decade or from a country / culture / language / genre."
   ]
  },
  {
   "cell_type": "code",
   "execution_count": 286,
   "id": "c64015ea",
   "metadata": {},
   "outputs": [],
   "source": [
    "def get_page(url):\n",
    "    return requests.get(url, timeout =1.).text"
   ]
  },
  {
   "cell_type": "code",
   "execution_count": 293,
   "id": "3e3c7b53",
   "metadata": {},
   "outputs": [],
   "source": [
    "# For more details about usinf Beautiful Soup\n",
    "#     https://www.dataquest.io/blog/web-scraping-python-using-beautiful-soup/\n",
    "\n",
    "def scraping_music(url,df):\n",
    "    \n",
    "    #df = pd.DataFrame()\n",
    "    \n",
    "    #Request the content (source code) of a specific URL from the server\n",
    "    response = requests.get(url) \n",
    "    print(response.status_code)\n",
    "    \n",
    "    soup = BeautifulSoup(response.content, \"html.parser\")\n",
    "    \n",
    "    \n",
    "    #print out the HTML content of the page, formatted nicely, using the prettify\n",
    "    #print(soup.prettify())\n",
    "    \n",
    "    \n",
    "    \n",
    "    # Identify the elements of the page that are part of the table we want to extract\n",
    "    songs = []\n",
    "    artists = []\n",
    "    year = []\n",
    "\n",
    "    # nr of times an element appears\n",
    "    num_iter = len(soup.select(\".title-artist\")) #change according to the website\n",
    "    \n",
    "    # get titles\n",
    "    song = soup.select(\".title\") ##change according to the website\n",
    "    \n",
    "    # get artist\n",
    "    artist = soup.select(\".artist\") ##change according to the website\n",
    "    \n",
    "    \n",
    "    \n",
    "    # Extract those elements into a dataset\n",
    "    for i in range(num_iter):\n",
    "        songs.append(song[i].get_text())\n",
    "        artists.append(artist[i].get_text())\n",
    "        year.append(2022)\n",
    "    \n",
    "    df = pd.DataFrame({'title':songs,'artist':artist,'year':year})\n",
    "    \n",
    "    \n",
    "    return df"
   ]
  },
  {
   "cell_type": "code",
   "execution_count": 294,
   "id": "86ebd006",
   "metadata": {},
   "outputs": [
    {
     "name": "stdout",
     "output_type": "stream",
     "text": [
      "200\n"
     ]
    },
    {
     "data": {
      "text/html": [
       "<div>\n",
       "<style scoped>\n",
       "    .dataframe tbody tr th:only-of-type {\n",
       "        vertical-align: middle;\n",
       "    }\n",
       "\n",
       "    .dataframe tbody tr th {\n",
       "        vertical-align: top;\n",
       "    }\n",
       "\n",
       "    .dataframe thead th {\n",
       "        text-align: right;\n",
       "    }\n",
       "</style>\n",
       "<table border=\"1\" class=\"dataframe\">\n",
       "  <thead>\n",
       "    <tr style=\"text-align: right;\">\n",
       "      <th></th>\n",
       "      <th>title</th>\n",
       "      <th>artist</th>\n",
       "      <th>year</th>\n",
       "    </tr>\n",
       "  </thead>\n",
       "  <tbody>\n",
       "    <tr>\n",
       "      <th>0</th>\n",
       "      <td>Unholy</td>\n",
       "      <td>[Sam Smith &amp; Kim Petras]</td>\n",
       "      <td>2022</td>\n",
       "    </tr>\n",
       "    <tr>\n",
       "      <th>1</th>\n",
       "      <td>I'm Good (Blue)</td>\n",
       "      <td>[David Guetta &amp; Bebe Rexha]</td>\n",
       "      <td>2022</td>\n",
       "    </tr>\n",
       "    <tr>\n",
       "      <th>2</th>\n",
       "      <td>wait in the truck</td>\n",
       "      <td>[HARDY &amp; Lainey Wilson]</td>\n",
       "      <td>2022</td>\n",
       "    </tr>\n",
       "    <tr>\n",
       "      <th>3</th>\n",
       "      <td>A Thousand Years</td>\n",
       "      <td>[Christina Perri]</td>\n",
       "      <td>2022</td>\n",
       "    </tr>\n",
       "    <tr>\n",
       "      <th>4</th>\n",
       "      <td>Son Of A Sinner</td>\n",
       "      <td>[Jelly Roll]</td>\n",
       "      <td>2022</td>\n",
       "    </tr>\n",
       "    <tr>\n",
       "      <th>...</th>\n",
       "      <td>...</td>\n",
       "      <td>...</td>\n",
       "      <td>...</td>\n",
       "    </tr>\n",
       "    <tr>\n",
       "      <th>95</th>\n",
       "      <td>Sand In My Boots</td>\n",
       "      <td>[Morgan Wallen]</td>\n",
       "      <td>2022</td>\n",
       "    </tr>\n",
       "    <tr>\n",
       "      <th>96</th>\n",
       "      <td>Betty (Get Money)</td>\n",
       "      <td>[Yung Gravy]</td>\n",
       "      <td>2022</td>\n",
       "    </tr>\n",
       "    <tr>\n",
       "      <th>97</th>\n",
       "      <td>Half Of Me (feat. Riley Green)</td>\n",
       "      <td>[Thomas Rhett]</td>\n",
       "      <td>2022</td>\n",
       "    </tr>\n",
       "    <tr>\n",
       "      <th>98</th>\n",
       "      <td>Boom Clap</td>\n",
       "      <td>[Charli XCX]</td>\n",
       "      <td>2022</td>\n",
       "    </tr>\n",
       "    <tr>\n",
       "      <th>99</th>\n",
       "      <td>How Far I'll Go</td>\n",
       "      <td>[Auli'i Cravalho]</td>\n",
       "      <td>2022</td>\n",
       "    </tr>\n",
       "  </tbody>\n",
       "</table>\n",
       "<p>100 rows × 3 columns</p>\n",
       "</div>"
      ],
      "text/plain": [
       "                             title                       artist  year\n",
       "0                           Unholy     [Sam Smith & Kim Petras]  2022\n",
       "1                  I'm Good (Blue)  [David Guetta & Bebe Rexha]  2022\n",
       "2                wait in the truck      [HARDY & Lainey Wilson]  2022\n",
       "3                 A Thousand Years            [Christina Perri]  2022\n",
       "4                  Son Of A Sinner                 [Jelly Roll]  2022\n",
       "..                             ...                          ...   ...\n",
       "95                Sand In My Boots              [Morgan Wallen]  2022\n",
       "96               Betty (Get Money)                 [Yung Gravy]  2022\n",
       "97  Half Of Me (feat. Riley Green)               [Thomas Rhett]  2022\n",
       "98                       Boom Clap                 [Charli XCX]  2022\n",
       "99                 How Far I'll Go            [Auli'i Cravalho]  2022\n",
       "\n",
       "[100 rows x 3 columns]"
      ]
     },
     "execution_count": 294,
     "metadata": {},
     "output_type": "execute_result"
    }
   ],
   "source": [
    "scraping_music('https://www.popvortex.com/music/charts/top-100-songs.php','top100')"
   ]
  },
  {
   "cell_type": "code",
   "execution_count": null,
   "id": "2f2d4321",
   "metadata": {},
   "outputs": [],
   "source": []
  },
  {
   "cell_type": "code",
   "execution_count": 400,
   "id": "d76901a5",
   "metadata": {},
   "outputs": [],
   "source": [
    "def billboard(url):\n",
    "    \n",
    "    #df = pd.DataFrame()\n",
    "    \n",
    "    #Request the content (source code) of a specific URL from the server\n",
    "    response = requests.get(url) \n",
    "    print(response.status_code)\n",
    "    \n",
    "    soup = BeautifulSoup(response.content, \"html.parser\")\n",
    "    \n",
    "    \n",
    "    #print out the HTML content of the page, formatted nicely, using the prettify\n",
    "    #print(soup.prettify())\n",
    "    \n",
    "    \n",
    "    \n",
    "    # Identify the elements of the page that are part of the table we want to extract\n",
    "    songs = []\n",
    "    artists = []\n",
    "    year = []\n",
    "\n",
    "    # nr of times an element appears\n",
    "    num_iter = len(soup.select(\"#title-of-a-story\")) #change according to the website\n",
    "    \n",
    "    # get titles\n",
    "    song = soup.select(\".c-title\") ##change according to the website\n",
    "    \n",
    "    # get artist\n",
    "    artist = soup.select(\".c-label\") ##change according to the website\n",
    "    \n",
    "    \n",
    "    \n",
    "    # Extract those elements into a dataset\n",
    "    for i in range(num_iter):\n",
    "        songs.append(song[i].get_text().replace('\\n','').replace('\\t',''))\n",
    "        artists.append(artist[i].get_text().replace('\\n','').replace('\\t',''))\n",
    "        #year.append(2022)\n",
    "    \n",
    "    df = pd.DataFrame({'title':songs,'artist':artists})\n",
    "    \n",
    "    \n",
    "    return df"
   ]
  },
  {
   "cell_type": "code",
   "execution_count": 403,
   "id": "966c7b9d",
   "metadata": {
    "scrolled": true
   },
   "outputs": [
    {
     "name": "stdout",
     "output_type": "stream",
     "text": [
      "200\n"
     ]
    },
    {
     "data": {
      "text/html": [
       "<div>\n",
       "<style scoped>\n",
       "    .dataframe tbody tr th:only-of-type {\n",
       "        vertical-align: middle;\n",
       "    }\n",
       "\n",
       "    .dataframe tbody tr th {\n",
       "        vertical-align: top;\n",
       "    }\n",
       "\n",
       "    .dataframe thead th {\n",
       "        text-align: right;\n",
       "    }\n",
       "</style>\n",
       "<table border=\"1\" class=\"dataframe\">\n",
       "  <thead>\n",
       "    <tr style=\"text-align: right;\">\n",
       "      <th></th>\n",
       "      <th>title</th>\n",
       "      <th>artist</th>\n",
       "    </tr>\n",
       "  </thead>\n",
       "  <tbody>\n",
       "    <tr>\n",
       "      <th>0</th>\n",
       "      <td>Un Verano Sin Ti</td>\n",
       "      <td>1</td>\n",
       "    </tr>\n",
       "    <tr>\n",
       "      <th>1</th>\n",
       "      <td>Imprint/Promotion Label:</td>\n",
       "      <td>13</td>\n",
       "    </tr>\n",
       "    <tr>\n",
       "      <th>2</th>\n",
       "      <td>Bad Bunny Replaces Himself at No. 1 on Hot Lat...</td>\n",
       "      <td>22</td>\n",
       "    </tr>\n",
       "    <tr>\n",
       "      <th>3</th>\n",
       "      <td>Gains in Weekly Performance</td>\n",
       "      <td>1</td>\n",
       "    </tr>\n",
       "    <tr>\n",
       "      <th>4</th>\n",
       "      <td>Additional Awards</td>\n",
       "      <td>Bad Bunny</td>\n",
       "    </tr>\n",
       "    <tr>\n",
       "      <th>...</th>\n",
       "      <td>...</td>\n",
       "      <td>...</td>\n",
       "    </tr>\n",
       "    <tr>\n",
       "      <th>411</th>\n",
       "      <td>Printemps Opens Podcast Studio in Paris Flagship</td>\n",
       "      <td>50</td>\n",
       "    </tr>\n",
       "    <tr>\n",
       "      <th>412</th>\n",
       "      <td>NCAA Athletes Can Finally Make Money, but They...</td>\n",
       "      <td>DJ Khaled</td>\n",
       "    </tr>\n",
       "    <tr>\n",
       "      <th>413</th>\n",
       "      <td>Follow Us</td>\n",
       "      <td>24</td>\n",
       "    </tr>\n",
       "    <tr>\n",
       "      <th>414</th>\n",
       "      <td>Have a Tip?</td>\n",
       "      <td>1</td>\n",
       "    </tr>\n",
       "    <tr>\n",
       "      <th>415</th>\n",
       "      <td>The Daily</td>\n",
       "      <td>6</td>\n",
       "    </tr>\n",
       "  </tbody>\n",
       "</table>\n",
       "<p>416 rows × 2 columns</p>\n",
       "</div>"
      ],
      "text/plain": [
       "                                                 title     artist\n",
       "0                                     Un Verano Sin Ti          1\n",
       "1                             Imprint/Promotion Label:         13\n",
       "2    Bad Bunny Replaces Himself at No. 1 on Hot Lat...         22\n",
       "3                          Gains in Weekly Performance          1\n",
       "4                                    Additional Awards  Bad Bunny\n",
       "..                                                 ...        ...\n",
       "411   Printemps Opens Podcast Studio in Paris Flagship         50\n",
       "412  NCAA Athletes Can Finally Make Money, but They...  DJ Khaled\n",
       "413                                          Follow Us         24\n",
       "414                                        Have a Tip?          1\n",
       "415                                          The Daily          6\n",
       "\n",
       "[416 rows x 2 columns]"
      ]
     },
     "execution_count": 403,
     "metadata": {},
     "output_type": "execute_result"
    }
   ],
   "source": [
    "billboard_df = billboard('https://www.billboard.com/charts/billboard-200/')\n",
    "billboard_df"
   ]
  },
  {
   "cell_type": "markdown",
   "id": "4db918ef",
   "metadata": {},
   "source": [
    "# Lab | API wrappers - Create your collection of songs & audio features"
   ]
  },
  {
   "cell_type": "markdown",
   "id": "5facb84a",
   "metadata": {},
   "source": [
    "To move forward with the project, you need to create a collection of songs with their audio features - as large as possible!\n",
    "\n",
    "These are the songs that we will cluster. And, later, when the user inputs a song, we will find the cluster to which the song belongs and recommend a song from the same cluster. The more songs you have, the more accurate and diverse recommendations you'll be able to give. Although... you might want to make sure the collected songs are \"curated\" in a certain way. Try to find playlists of songs that are diverse, but also that meet certain standards.\n",
    "\n",
    "The process of sending hundreds or thousands of requests can take some time - it's normal if you have to wait a few minutes (or, if you're ambitious, even hours) to get all the data you need.\n",
    "\n",
    "An idea for collecting as many songs as possible is to start with all the songs of a big, diverse playlist and then go to every artist present in the playlist and grab every song of every album of that artist. The amount of songs you'll be collecting per playlist will grow exponentially!"
   ]
  },
  {
   "cell_type": "code",
   "execution_count": 408,
   "id": "c3fa5568",
   "metadata": {},
   "outputs": [],
   "source": [
    "import spotipy\n",
    "from spotipy.oauth2 import SpotifyClientCredentials"
   ]
  },
  {
   "cell_type": "code",
   "execution_count": 411,
   "id": "3a4525ef",
   "metadata": {},
   "outputs": [],
   "source": [
    "secrets_file = open(\"secrets_spotify.txt\",\"r\")\n",
    "string = secrets_file.read()"
   ]
  },
  {
   "cell_type": "code",
   "execution_count": 412,
   "id": "a4403fc0",
   "metadata": {},
   "outputs": [],
   "source": [
    "secrets_dict={} # create a dictionary\n",
    "\n",
    "for line in string.split('\\n'):\n",
    "    if len(line) > 0: #this is used in case we have empty lines\n",
    "        secrets_dict[line.split(':')[0]]=line.split(':')[1]"
   ]
  },
  {
   "cell_type": "code",
   "execution_count": 413,
   "id": "c3427ef6",
   "metadata": {},
   "outputs": [],
   "source": [
    "\n",
    "#Initialize SpotiPy with user credentials\n",
    "sp = spotipy.Spotify(auth_manager=SpotifyClientCredentials(client_id=secrets_dict['cid'],\n",
    "                                                           client_secret=secrets_dict['csecret']))"
   ]
  },
  {
   "cell_type": "code",
   "execution_count": 475,
   "id": "421fc4bd",
   "metadata": {},
   "outputs": [],
   "source": [
    "playlist = sp.user_playlist_tracks(\"spotify\", \"6FTVlz76p3Bmmw4vwKJgHy\")"
   ]
  },
  {
   "cell_type": "code",
   "execution_count": 487,
   "id": "a88d5a11",
   "metadata": {},
   "outputs": [
    {
     "data": {
      "text/plain": [
       "'spotify:track:5LLfL25W8ELqVXOLBhkJOP'"
      ]
     },
     "execution_count": 487,
     "metadata": {},
     "output_type": "execute_result"
    }
   ],
   "source": [
    "playlist.keys()\n",
    "playlist['items'][0].keys() # explore items\n",
    "playlist['items'][0]['track'].keys() #explore info about track\n",
    "playlist['items'][0]['track']['uri']\n",
    "\n"
   ]
  },
  {
   "cell_type": "code",
   "execution_count": 522,
   "id": "4b73e006",
   "metadata": {},
   "outputs": [],
   "source": [
    "def playlist_songs(playlist_id):\n",
    "    \n",
    "    df = pd.DataFrame()\n",
    "    df_audio = pd.DataFrame()\n",
    "    \n",
    "    playlist = sp.user_playlist_tracks(\"spotify\", playlist_id)['items']\n",
    "    \n",
    "    \n",
    "    music_list = []\n",
    "    artist_list = []\n",
    "    album_list = []\n",
    "    audio_features_list = []\n",
    "    \n",
    "    for track in playlist:\n",
    "        music_list.append(track['track']['name']) #list all songs\n",
    "        artist_list.append(track['track']['artists'][0]['name']) #list all artists. QUESTION = how to get multiple artists???\n",
    "        album_list.append(track['track']['album']['name']) #list the name of the album\n",
    "        \n",
    "        audio_features_list.append(sp.audio_features(track['track']['uri'])) #audio features\n",
    "    \n",
    "    \n",
    "    sleep(randint(1,3))\n",
    "    \n",
    "    #create df columns\n",
    "    df['music'] = music_list\n",
    "    df['artist'] = artist_list\n",
    "    df['album'] = album_list\n",
    "    \n",
    "    #create df for audio features\n",
    "    df_audio['audio_features'] = audio_features_list\n",
    "    \n",
    "    playlist_db = pd.concat([df,df_audio], axis = 1).reset_index()\n",
    "    \n",
    "    return playlist_db\n",
    "    \n"
   ]
  },
  {
   "cell_type": "code",
   "execution_count": 533,
   "id": "6832a65d",
   "metadata": {},
   "outputs": [],
   "source": [
    "playlist_db = playlist_songs('6FTVlz76p3Bmmw4vwKJgHy')"
   ]
  },
  {
   "cell_type": "code",
   "execution_count": 534,
   "id": "1e21d7a3",
   "metadata": {},
   "outputs": [
    {
     "data": {
      "text/html": [
       "<div>\n",
       "<style scoped>\n",
       "    .dataframe tbody tr th:only-of-type {\n",
       "        vertical-align: middle;\n",
       "    }\n",
       "\n",
       "    .dataframe tbody tr th {\n",
       "        vertical-align: top;\n",
       "    }\n",
       "\n",
       "    .dataframe thead th {\n",
       "        text-align: right;\n",
       "    }\n",
       "</style>\n",
       "<table border=\"1\" class=\"dataframe\">\n",
       "  <thead>\n",
       "    <tr style=\"text-align: right;\">\n",
       "      <th></th>\n",
       "      <th>index</th>\n",
       "      <th>music</th>\n",
       "      <th>artist</th>\n",
       "      <th>album</th>\n",
       "      <th>audio_features</th>\n",
       "    </tr>\n",
       "  </thead>\n",
       "  <tbody>\n",
       "    <tr>\n",
       "      <th>0</th>\n",
       "      <td>0</td>\n",
       "      <td>Miniyamba</td>\n",
       "      <td>Yeahman</td>\n",
       "      <td>Shika Shika / Botanas Series</td>\n",
       "      <td>[{'danceability': 0.702, 'energy': 0.508, 'key...</td>\n",
       "    </tr>\n",
       "    <tr>\n",
       "      <th>1</th>\n",
       "      <td>1</td>\n",
       "      <td>We</td>\n",
       "      <td>Marava</td>\n",
       "      <td>We EP</td>\n",
       "      <td>[{'danceability': 0.867, 'energy': 0.4, 'key':...</td>\n",
       "    </tr>\n",
       "    <tr>\n",
       "      <th>2</th>\n",
       "      <td>2</td>\n",
       "      <td>Quién Me Escucha</td>\n",
       "      <td>Sandra Bernardo</td>\n",
       "      <td>Quién Me Escucha</td>\n",
       "      <td>[{'danceability': 0.746, 'energy': 0.53, 'key'...</td>\n",
       "    </tr>\n",
       "    <tr>\n",
       "      <th>3</th>\n",
       "      <td>3</td>\n",
       "      <td>Kompaz</td>\n",
       "      <td>Rodrigo Gallardo</td>\n",
       "      <td>Harabe Daydreams I</td>\n",
       "      <td>[{'danceability': 0.788, 'energy': 0.493, 'key...</td>\n",
       "    </tr>\n",
       "    <tr>\n",
       "      <th>4</th>\n",
       "      <td>4</td>\n",
       "      <td>Monday (feat. LEJ, Akhenaton &amp; Blundetto)</td>\n",
       "      <td>Biga*Ranx</td>\n",
       "      <td>1988</td>\n",
       "      <td>[{'danceability': 0.945, 'energy': 0.46, 'key'...</td>\n",
       "    </tr>\n",
       "    <tr>\n",
       "      <th>...</th>\n",
       "      <td>...</td>\n",
       "      <td>...</td>\n",
       "      <td>...</td>\n",
       "      <td>...</td>\n",
       "      <td>...</td>\n",
       "    </tr>\n",
       "    <tr>\n",
       "      <th>94</th>\n",
       "      <td>94</td>\n",
       "      <td>MPFree Now</td>\n",
       "      <td>Session Victim</td>\n",
       "      <td>10.000 Hours</td>\n",
       "      <td>[{'danceability': 0.788, 'energy': 0.715, 'key...</td>\n",
       "    </tr>\n",
       "    <tr>\n",
       "      <th>95</th>\n",
       "      <td>95</td>\n",
       "      <td>Luna</td>\n",
       "      <td>Sandra Bernardo</td>\n",
       "      <td>Es el Momento</td>\n",
       "      <td>[{'danceability': 0.624, 'energy': 0.687, 'key...</td>\n",
       "    </tr>\n",
       "    <tr>\n",
       "      <th>96</th>\n",
       "      <td>96</td>\n",
       "      <td>Gobi</td>\n",
       "      <td>Tunnelvisions</td>\n",
       "      <td>Midnight Voyage</td>\n",
       "      <td>[{'danceability': 0.689, 'energy': 0.59, 'key'...</td>\n",
       "    </tr>\n",
       "    <tr>\n",
       "      <th>97</th>\n",
       "      <td>97</td>\n",
       "      <td>Desire</td>\n",
       "      <td>Joe Turner</td>\n",
       "      <td>Desire</td>\n",
       "      <td>[{'danceability': 0.598, 'energy': 0.807, 'key...</td>\n",
       "    </tr>\n",
       "    <tr>\n",
       "      <th>98</th>\n",
       "      <td>98</td>\n",
       "      <td>Alabora - Foxall Pale Blue Remix</td>\n",
       "      <td>Beyhude</td>\n",
       "      <td>Alabora</td>\n",
       "      <td>[{'danceability': 0.77, 'energy': 0.478, 'key'...</td>\n",
       "    </tr>\n",
       "  </tbody>\n",
       "</table>\n",
       "<p>99 rows × 5 columns</p>\n",
       "</div>"
      ],
      "text/plain": [
       "    index                                      music            artist  \\\n",
       "0       0                                  Miniyamba           Yeahman   \n",
       "1       1                                         We            Marava   \n",
       "2       2                           Quién Me Escucha   Sandra Bernardo   \n",
       "3       3                                     Kompaz  Rodrigo Gallardo   \n",
       "4       4  Monday (feat. LEJ, Akhenaton & Blundetto)         Biga*Ranx   \n",
       "..    ...                                        ...               ...   \n",
       "94     94                                 MPFree Now    Session Victim   \n",
       "95     95                                       Luna   Sandra Bernardo   \n",
       "96     96                                       Gobi     Tunnelvisions   \n",
       "97     97                                     Desire        Joe Turner   \n",
       "98     98           Alabora - Foxall Pale Blue Remix           Beyhude   \n",
       "\n",
       "                           album  \\\n",
       "0   Shika Shika / Botanas Series   \n",
       "1                          We EP   \n",
       "2               Quién Me Escucha   \n",
       "3             Harabe Daydreams I   \n",
       "4                           1988   \n",
       "..                           ...   \n",
       "94                  10.000 Hours   \n",
       "95                 Es el Momento   \n",
       "96               Midnight Voyage   \n",
       "97                        Desire   \n",
       "98                       Alabora   \n",
       "\n",
       "                                       audio_features  \n",
       "0   [{'danceability': 0.702, 'energy': 0.508, 'key...  \n",
       "1   [{'danceability': 0.867, 'energy': 0.4, 'key':...  \n",
       "2   [{'danceability': 0.746, 'energy': 0.53, 'key'...  \n",
       "3   [{'danceability': 0.788, 'energy': 0.493, 'key...  \n",
       "4   [{'danceability': 0.945, 'energy': 0.46, 'key'...  \n",
       "..                                                ...  \n",
       "94  [{'danceability': 0.788, 'energy': 0.715, 'key...  \n",
       "95  [{'danceability': 0.624, 'energy': 0.687, 'key...  \n",
       "96  [{'danceability': 0.689, 'energy': 0.59, 'key'...  \n",
       "97  [{'danceability': 0.598, 'energy': 0.807, 'key...  \n",
       "98  [{'danceability': 0.77, 'energy': 0.478, 'key'...  \n",
       "\n",
       "[99 rows x 5 columns]"
      ]
     },
     "execution_count": 534,
     "metadata": {},
     "output_type": "execute_result"
    }
   ],
   "source": [
    "playlist_db #HELP: how can I use flatten function for audio_features??"
   ]
  },
  {
   "cell_type": "code",
   "execution_count": 535,
   "id": "de326e37",
   "metadata": {},
   "outputs": [],
   "source": [
    "def flatten(data, col_list):\n",
    "    for column in col_list:\n",
    "        flattened = pd.DataFrame(dict(data[column])).transpose()\n",
    "        columns = [str(col) for col in flattened.columns]\n",
    "        flattened.columns = [column + '_' + colname for colname in columns]\n",
    "        data = pd.concat([data, flattened], axis=1)\n",
    "        data = data.drop(column, axis=1)\n",
    "    return data"
   ]
  },
  {
   "cell_type": "code",
   "execution_count": 536,
   "id": "0cb18d9d",
   "metadata": {},
   "outputs": [
    {
     "data": {
      "text/html": [
       "<div>\n",
       "<style scoped>\n",
       "    .dataframe tbody tr th:only-of-type {\n",
       "        vertical-align: middle;\n",
       "    }\n",
       "\n",
       "    .dataframe tbody tr th {\n",
       "        vertical-align: top;\n",
       "    }\n",
       "\n",
       "    .dataframe thead th {\n",
       "        text-align: right;\n",
       "    }\n",
       "</style>\n",
       "<table border=\"1\" class=\"dataframe\">\n",
       "  <thead>\n",
       "    <tr style=\"text-align: right;\">\n",
       "      <th></th>\n",
       "      <th>audio_features_0</th>\n",
       "    </tr>\n",
       "  </thead>\n",
       "  <tbody>\n",
       "    <tr>\n",
       "      <th>0</th>\n",
       "      <td>{'danceability': 0.702, 'energy': 0.508, 'key'...</td>\n",
       "    </tr>\n",
       "    <tr>\n",
       "      <th>1</th>\n",
       "      <td>{'danceability': 0.867, 'energy': 0.4, 'key': ...</td>\n",
       "    </tr>\n",
       "    <tr>\n",
       "      <th>2</th>\n",
       "      <td>{'danceability': 0.746, 'energy': 0.53, 'key':...</td>\n",
       "    </tr>\n",
       "    <tr>\n",
       "      <th>3</th>\n",
       "      <td>{'danceability': 0.788, 'energy': 0.493, 'key'...</td>\n",
       "    </tr>\n",
       "    <tr>\n",
       "      <th>4</th>\n",
       "      <td>{'danceability': 0.945, 'energy': 0.46, 'key':...</td>\n",
       "    </tr>\n",
       "    <tr>\n",
       "      <th>...</th>\n",
       "      <td>...</td>\n",
       "    </tr>\n",
       "    <tr>\n",
       "      <th>94</th>\n",
       "      <td>{'danceability': 0.788, 'energy': 0.715, 'key'...</td>\n",
       "    </tr>\n",
       "    <tr>\n",
       "      <th>95</th>\n",
       "      <td>{'danceability': 0.624, 'energy': 0.687, 'key'...</td>\n",
       "    </tr>\n",
       "    <tr>\n",
       "      <th>96</th>\n",
       "      <td>{'danceability': 0.689, 'energy': 0.59, 'key':...</td>\n",
       "    </tr>\n",
       "    <tr>\n",
       "      <th>97</th>\n",
       "      <td>{'danceability': 0.598, 'energy': 0.807, 'key'...</td>\n",
       "    </tr>\n",
       "    <tr>\n",
       "      <th>98</th>\n",
       "      <td>{'danceability': 0.77, 'energy': 0.478, 'key':...</td>\n",
       "    </tr>\n",
       "  </tbody>\n",
       "</table>\n",
       "<p>99 rows × 1 columns</p>\n",
       "</div>"
      ],
      "text/plain": [
       "                                     audio_features_0\n",
       "0   {'danceability': 0.702, 'energy': 0.508, 'key'...\n",
       "1   {'danceability': 0.867, 'energy': 0.4, 'key': ...\n",
       "2   {'danceability': 0.746, 'energy': 0.53, 'key':...\n",
       "3   {'danceability': 0.788, 'energy': 0.493, 'key'...\n",
       "4   {'danceability': 0.945, 'energy': 0.46, 'key':...\n",
       "..                                                ...\n",
       "94  {'danceability': 0.788, 'energy': 0.715, 'key'...\n",
       "95  {'danceability': 0.624, 'energy': 0.687, 'key'...\n",
       "96  {'danceability': 0.689, 'energy': 0.59, 'key':...\n",
       "97  {'danceability': 0.598, 'energy': 0.807, 'key'...\n",
       "98  {'danceability': 0.77, 'energy': 0.478, 'key':...\n",
       "\n",
       "[99 rows x 1 columns]"
      ]
     },
     "execution_count": 536,
     "metadata": {},
     "output_type": "execute_result"
    }
   ],
   "source": [
    "df_to_flat = playlist_db[['audio_features']]\n",
    "flat_list = ['audio_features']\n",
    "flat = flatten(df_to_flat,flat_list)\n",
    "flat"
   ]
  },
  {
   "cell_type": "code",
   "execution_count": null,
   "id": "0dc51700",
   "metadata": {},
   "outputs": [],
   "source": []
  }
 ],
 "metadata": {
  "kernelspec": {
   "display_name": "Python 3 (ipykernel)",
   "language": "python",
   "name": "python3"
  },
  "language_info": {
   "codemirror_mode": {
    "name": "ipython",
    "version": 3
   },
   "file_extension": ".py",
   "mimetype": "text/x-python",
   "name": "python",
   "nbconvert_exporter": "python",
   "pygments_lexer": "ipython3",
   "version": "3.9.12"
  }
 },
 "nbformat": 4,
 "nbformat_minor": 5
}
